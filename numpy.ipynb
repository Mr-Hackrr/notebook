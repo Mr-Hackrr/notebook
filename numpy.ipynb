{
  "metadata": {
    "kernelspec": {
      "name": "python",
      "display_name": "Python (Pyodide)",
      "language": "python"
    },
    "language_info": {
      "codemirror_mode": {
        "name": "python",
        "version": 3
      },
      "file_extension": ".py",
      "mimetype": "text/x-python",
      "name": "python",
      "nbconvert_exporter": "python",
      "pygments_lexer": "ipython3",
      "version": "3.8"
    },
    "colab": {
      "provenance": [],
      "include_colab_link": true
    }
  },
  "nbformat_minor": 0,
  "nbformat": 4,
  "cells": [
    {
      "cell_type": "markdown",
      "metadata": {
        "id": "view-in-github",
        "colab_type": "text"
      },
      "source": [
        "<a href=\"https://colab.research.google.com/github/Mr-Hackrr/notebook/blob/main/numpy.ipynb\" target=\"_parent\"><img src=\"https://colab.research.google.com/assets/colab-badge.svg\" alt=\"Open In Colab\"/></a>"
      ]
    },
    {
      "cell_type": "code",
      "source": [
        "import numpy as np"
      ],
      "metadata": {
        "trusted": true,
        "id": "COoX0WHM8LVT"
      },
      "outputs": [],
      "execution_count": 44
    },
    {
      "cell_type": "code",
      "source": [
        "list = np.array([1,2,3,4])\n",
        "list"
      ],
      "metadata": {
        "trusted": true,
        "colab": {
          "base_uri": "https://localhost:8080/"
        },
        "id": "M9j6Brqm8LVT",
        "outputId": "368bbcdf-46f4-433c-de16-75bd210fe83d"
      },
      "outputs": [
        {
          "output_type": "execute_result",
          "data": {
            "text/plain": [
              "array([1, 2, 3, 4])"
            ]
          },
          "metadata": {},
          "execution_count": 2
        }
      ],
      "execution_count": 2
    },
    {
      "cell_type": "code",
      "source": [
        "ran_list = np.arange(100000)"
      ],
      "metadata": {
        "trusted": true,
        "id": "UZGm1qKX8LVU"
      },
      "outputs": [],
      "execution_count": 3
    },
    {
      "cell_type": "code",
      "source": [
        "list.shape"
      ],
      "metadata": {
        "trusted": true,
        "colab": {
          "base_uri": "https://localhost:8080/"
        },
        "id": "ug1PVqZO8LVU",
        "outputId": "128a9643-40d1-4392-f26c-ed5c1d638137"
      },
      "outputs": [
        {
          "output_type": "execute_result",
          "data": {
            "text/plain": [
              "(4,)"
            ]
          },
          "metadata": {},
          "execution_count": 4
        }
      ],
      "execution_count": 4
    },
    {
      "cell_type": "code",
      "source": [
        "list ** 2"
      ],
      "metadata": {
        "trusted": true,
        "colab": {
          "base_uri": "https://localhost:8080/"
        },
        "id": "qy0mMHen8LVU",
        "outputId": "1994ba91-141e-4479-b54f-9ed652d92948"
      },
      "outputs": [
        {
          "output_type": "execute_result",
          "data": {
            "text/plain": [
              "array([ 1,  4,  9, 16])"
            ]
          },
          "metadata": {},
          "execution_count": 5
        }
      ],
      "execution_count": 5
    },
    {
      "cell_type": "code",
      "source": [
        "np.mean(list)"
      ],
      "metadata": {
        "trusted": true,
        "colab": {
          "base_uri": "https://localhost:8080/"
        },
        "id": "asJN9nx08LVV",
        "outputId": "634fd268-04e1-45a8-8eb1-e7c23d4ff0ec"
      },
      "outputs": [
        {
          "output_type": "execute_result",
          "data": {
            "text/plain": [
              "2.5"
            ]
          },
          "metadata": {},
          "execution_count": 6
        }
      ],
      "execution_count": 6
    },
    {
      "cell_type": "code",
      "source": [
        "np.sum(list)"
      ],
      "metadata": {
        "trusted": true,
        "colab": {
          "base_uri": "https://localhost:8080/"
        },
        "id": "GUFTZfDK8LVV",
        "outputId": "4088f3b3-4be0-4583-8675-b446741a7209"
      },
      "outputs": [
        {
          "output_type": "execute_result",
          "data": {
            "text/plain": [
              "10"
            ]
          },
          "metadata": {},
          "execution_count": 7
        }
      ],
      "execution_count": 7
    },
    {
      "cell_type": "code",
      "source": [
        "ran_list[:10] ** 2"
      ],
      "metadata": {
        "trusted": true,
        "colab": {
          "base_uri": "https://localhost:8080/"
        },
        "id": "rh4AvkVV8LVV",
        "outputId": "a28233a9-3c78-4f0b-dd0c-f5403f0cb6e6"
      },
      "outputs": [
        {
          "output_type": "execute_result",
          "data": {
            "text/plain": [
              "array([ 0,  1,  4,  9, 16, 25, 36, 49, 64, 81])"
            ]
          },
          "metadata": {},
          "execution_count": 8
        }
      ],
      "execution_count": 8
    },
    {
      "cell_type": "code",
      "source": [
        "twod = np.array([[1,2,3],[4,5,6]])"
      ],
      "metadata": {
        "trusted": true,
        "id": "1BvUDmMN8LVV"
      },
      "outputs": [],
      "execution_count": 9
    },
    {
      "cell_type": "code",
      "source": [
        "oned = np.array([1,2,3,4,5,6])"
      ],
      "metadata": {
        "trusted": true,
        "id": "C-zphASy8LVV"
      },
      "outputs": [],
      "execution_count": 10
    },
    {
      "cell_type": "code",
      "source": [
        "threed = np.array([[[1,2],[3,4]],[[6,7],[4,5]],[[2,4],[5,6]]])"
      ],
      "metadata": {
        "trusted": true,
        "id": "_NeGMdWK8LVW"
      },
      "outputs": [],
      "execution_count": 11
    },
    {
      "cell_type": "code",
      "source": [
        "\n",
        "threed"
      ],
      "metadata": {
        "trusted": true,
        "colab": {
          "base_uri": "https://localhost:8080/"
        },
        "id": "HpsDmpnT8LVW",
        "outputId": "5bda0f77-64ab-4e3a-af44-f505aa29a263"
      },
      "outputs": [
        {
          "output_type": "execute_result",
          "data": {
            "text/plain": [
              "array([[[1, 2],\n",
              "        [3, 4]],\n",
              "\n",
              "       [[6, 7],\n",
              "        [4, 5]],\n",
              "\n",
              "       [[2, 4],\n",
              "        [5, 6]]])"
            ]
          },
          "metadata": {},
          "execution_count": 12
        }
      ],
      "execution_count": 12
    },
    {
      "cell_type": "code",
      "source": [
        "for i in threed:\n",
        "    print(np.sum(i))"
      ],
      "metadata": {
        "trusted": true,
        "colab": {
          "base_uri": "https://localhost:8080/"
        },
        "id": "ToNMnhs78LVW",
        "outputId": "c835f962-ab01-4171-905b-42fac09d28b5"
      },
      "outputs": [
        {
          "output_type": "stream",
          "name": "stdout",
          "text": [
            "10\n",
            "22\n",
            "17\n"
          ]
        }
      ],
      "execution_count": 13
    },
    {
      "cell_type": "code",
      "source": [
        "print(oned.ndim)\n",
        "print(twod.ndim)\n",
        "print(threed.ndim)"
      ],
      "metadata": {
        "trusted": true,
        "colab": {
          "base_uri": "https://localhost:8080/"
        },
        "id": "muTQajlF8LVW",
        "outputId": "7649790d-663c-4f01-c6b6-6cefd3b7ad42"
      },
      "outputs": [
        {
          "output_type": "stream",
          "name": "stdout",
          "text": [
            "1\n",
            "2\n",
            "3\n"
          ]
        }
      ],
      "execution_count": 14
    },
    {
      "cell_type": "code",
      "source": [
        "print(oned.shape)\n",
        "print(twod.shape)\n",
        "print(threed.shape)"
      ],
      "metadata": {
        "trusted": true,
        "colab": {
          "base_uri": "https://localhost:8080/"
        },
        "id": "WXrMKgE38LVW",
        "outputId": "90f7ad8f-b076-40af-b7d9-163aa6187abe"
      },
      "outputs": [
        {
          "output_type": "stream",
          "name": "stdout",
          "text": [
            "(6,)\n",
            "(2, 3)\n",
            "(3, 2, 2)\n"
          ]
        }
      ],
      "execution_count": 15
    },
    {
      "cell_type": "code",
      "source": [
        "print(oned.size)\n",
        "print(twod.size)\n",
        "print(threed.size)"
      ],
      "metadata": {
        "trusted": true,
        "colab": {
          "base_uri": "https://localhost:8080/"
        },
        "id": "aAg1pSvP8LVW",
        "outputId": "c40f4425-dde1-4980-8ad1-ef0ea3b6a70b"
      },
      "outputs": [
        {
          "output_type": "stream",
          "name": "stdout",
          "text": [
            "6\n",
            "6\n",
            "12\n"
          ]
        }
      ],
      "execution_count": 16
    },
    {
      "cell_type": "code",
      "source": [
        "shape = (4,3,2)\n",
        "z = np.zeros(shape)"
      ],
      "metadata": {
        "trusted": true,
        "id": "BRVlYaV98LVW"
      },
      "outputs": [],
      "execution_count": 17
    },
    {
      "cell_type": "code",
      "source": [
        "z.astype('int64')"
      ],
      "metadata": {
        "trusted": true,
        "colab": {
          "base_uri": "https://localhost:8080/"
        },
        "id": "jVhtfLFP8LVW",
        "outputId": "d7fbf23e-d2a6-4508-be24-93e3231989a6"
      },
      "outputs": [
        {
          "output_type": "execute_result",
          "data": {
            "text/plain": [
              "array([[[0, 0],\n",
              "        [0, 0],\n",
              "        [0, 0]],\n",
              "\n",
              "       [[0, 0],\n",
              "        [0, 0],\n",
              "        [0, 0]],\n",
              "\n",
              "       [[0, 0],\n",
              "        [0, 0],\n",
              "        [0, 0]],\n",
              "\n",
              "       [[0, 0],\n",
              "        [0, 0],\n",
              "        [0, 0]]])"
            ]
          },
          "metadata": {},
          "execution_count": 18
        }
      ],
      "execution_count": 18
    },
    {
      "cell_type": "code",
      "source": [
        "shape = (4,3,3)\n",
        "np.ones((2,3,3),dtype = 'int32')"
      ],
      "metadata": {
        "trusted": true,
        "colab": {
          "base_uri": "https://localhost:8080/"
        },
        "id": "fvTBOKUm8LVX",
        "outputId": "0d19742c-52a3-406a-b0a1-df4096af6cc2"
      },
      "outputs": [
        {
          "output_type": "execute_result",
          "data": {
            "text/plain": [
              "array([[[1, 1, 1],\n",
              "        [1, 1, 1],\n",
              "        [1, 1, 1]],\n",
              "\n",
              "       [[1, 1, 1],\n",
              "        [1, 1, 1],\n",
              "        [1, 1, 1]]], dtype=int32)"
            ]
          },
          "metadata": {},
          "execution_count": 19
        }
      ],
      "execution_count": 19
    },
    {
      "cell_type": "code",
      "source": [
        "ran = np.random.randint(1,100)\n",
        "ran"
      ],
      "metadata": {
        "trusted": true,
        "colab": {
          "base_uri": "https://localhost:8080/"
        },
        "id": "91JtVMPN8LVX",
        "outputId": "83dfe2ec-522d-402c-ef33-33345562e575"
      },
      "outputs": [
        {
          "output_type": "execute_result",
          "data": {
            "text/plain": [
              "93"
            ]
          },
          "metadata": {},
          "execution_count": 20
        }
      ],
      "execution_count": 20
    },
    {
      "cell_type": "code",
      "source": [
        "rand_list = np.zeros((2,3),dtype = 'int32')\n",
        "for i in rand_list:\n",
        "    for j in i:\n",
        "        j = np.random.randint(1,100)\n",
        "        print(j)\n",
        "rand_list"
      ],
      "metadata": {
        "trusted": true,
        "colab": {
          "base_uri": "https://localhost:8080/"
        },
        "id": "AbXw0q4w8LVX",
        "outputId": "ab887134-2efc-4fef-bf80-c9613d452121"
      },
      "outputs": [
        {
          "output_type": "stream",
          "name": "stdout",
          "text": [
            "6\n",
            "51\n",
            "43\n",
            "69\n",
            "85\n",
            "92\n"
          ]
        },
        {
          "output_type": "execute_result",
          "data": {
            "text/plain": [
              "array([[0, 0, 0],\n",
              "       [0, 0, 0]], dtype=int32)"
            ]
          },
          "metadata": {},
          "execution_count": 21
        }
      ],
      "execution_count": 21
    },
    {
      "cell_type": "code",
      "source": [
        "np.full((2,3),67)"
      ],
      "metadata": {
        "trusted": true,
        "colab": {
          "base_uri": "https://localhost:8080/"
        },
        "id": "y9Mp7aRZ8LVX",
        "outputId": "19a056c0-335b-4ba6-fd70-c14b8fddcfb1"
      },
      "outputs": [
        {
          "output_type": "execute_result",
          "data": {
            "text/plain": [
              "array([[67, 67, 67],\n",
              "       [67, 67, 67]])"
            ]
          },
          "metadata": {},
          "execution_count": 22
        }
      ],
      "execution_count": 22
    },
    {
      "cell_type": "code",
      "source": [
        "list"
      ],
      "metadata": {
        "trusted": true,
        "colab": {
          "base_uri": "https://localhost:8080/"
        },
        "id": "r4u-CwrW8LVX",
        "outputId": "1c52a3a8-aa96-452c-a706-6a0ecebfe789"
      },
      "outputs": [
        {
          "output_type": "execute_result",
          "data": {
            "text/plain": [
              "array([1, 2, 3, 4])"
            ]
          },
          "metadata": {},
          "execution_count": 23
        }
      ],
      "execution_count": 23
    },
    {
      "cell_type": "code",
      "source": [
        "n = np.random.rand(4,5) * 100\n",
        "n.astype('int16')"
      ],
      "metadata": {
        "trusted": true,
        "colab": {
          "base_uri": "https://localhost:8080/"
        },
        "id": "DZh4pE1N8LVX",
        "outputId": "8b105b1b-089a-49fd-ea54-245878a91dcf"
      },
      "outputs": [
        {
          "output_type": "execute_result",
          "data": {
            "text/plain": [
              "array([[65, 34, 35, 26, 33],\n",
              "       [96, 45, 22, 96, 31],\n",
              "       [67,  8, 97, 33, 68],\n",
              "       [35, 43, 55, 25, 18]], dtype=int16)"
            ]
          },
          "metadata": {},
          "execution_count": 24
        }
      ],
      "execution_count": 24
    },
    {
      "cell_type": "code",
      "source": [
        "list[1] = 4\n",
        "list[1]"
      ],
      "metadata": {
        "trusted": true,
        "colab": {
          "base_uri": "https://localhost:8080/"
        },
        "id": "OXLz8P1m8LVX",
        "outputId": "3435d673-2933-4c64-8f8c-61de7af5c340"
      },
      "outputs": [
        {
          "output_type": "execute_result",
          "data": {
            "text/plain": [
              "4"
            ]
          },
          "metadata": {},
          "execution_count": 25
        }
      ],
      "execution_count": 25
    },
    {
      "cell_type": "code",
      "source": [
        "np.array([[np.arange(2,5)],[np.arange(5,8)]])"
      ],
      "metadata": {
        "trusted": true,
        "colab": {
          "base_uri": "https://localhost:8080/"
        },
        "id": "juQDDFYQ8LVX",
        "outputId": "9f6f43c6-13a1-4759-89f9-dbf6c4409e8b"
      },
      "outputs": [
        {
          "output_type": "execute_result",
          "data": {
            "text/plain": [
              "array([[[2, 3, 4]],\n",
              "\n",
              "       [[5, 6, 7]]])"
            ]
          },
          "metadata": {},
          "execution_count": 26
        }
      ],
      "execution_count": 26
    },
    {
      "cell_type": "code",
      "source": [
        "np.array([[np.linspace(2,10,5, dtype=int)],[np.linspace(5,20,5, dtype = int)]])"
      ],
      "metadata": {
        "trusted": true,
        "colab": {
          "base_uri": "https://localhost:8080/"
        },
        "id": "p3E7CTEJ8LVX",
        "outputId": "4b4d2802-8c8e-4132-e00c-9ee363d5e9f3"
      },
      "outputs": [
        {
          "output_type": "execute_result",
          "data": {
            "text/plain": [
              "array([[[ 2,  4,  6,  8, 10]],\n",
              "\n",
              "       [[ 5,  8, 12, 16, 20]]])"
            ]
          },
          "metadata": {},
          "execution_count": 27
        }
      ],
      "execution_count": 27
    },
    {
      "cell_type": "code",
      "source": [
        "lis = np.ones((5,5), dtype = 'int32')\n",
        "liszero = np.zeros((3,3), dtype ='int32')\n",
        "lis[1:4,1:4] = liszero\n",
        "lis[2,2] = 9\n",
        "lis\n",
        ""
      ],
      "metadata": {
        "trusted": true,
        "colab": {
          "base_uri": "https://localhost:8080/"
        },
        "id": "Oy2LWlgW8LVX",
        "outputId": "24cc1e47-9272-4aeb-818c-fbe88415c3aa"
      },
      "outputs": [
        {
          "output_type": "execute_result",
          "data": {
            "text/plain": [
              "array([[1, 1, 1, 1, 1],\n",
              "       [1, 0, 0, 0, 1],\n",
              "       [1, 0, 9, 0, 1],\n",
              "       [1, 0, 0, 0, 1],\n",
              "       [1, 1, 1, 1, 1]], dtype=int32)"
            ]
          },
          "metadata": {},
          "execution_count": 28
        }
      ],
      "execution_count": 28
    },
    {
      "cell_type": "code",
      "source": [
        "twod"
      ],
      "metadata": {
        "trusted": true,
        "colab": {
          "base_uri": "https://localhost:8080/"
        },
        "id": "idVe-_Re8LVY",
        "outputId": "c837643d-8c33-40a7-8a30-718fba0ee383"
      },
      "outputs": [
        {
          "output_type": "execute_result",
          "data": {
            "text/plain": [
              "array([[1, 2, 3],\n",
              "       [4, 5, 6]])"
            ]
          },
          "metadata": {},
          "execution_count": 29
        }
      ],
      "execution_count": 29
    },
    {
      "cell_type": "code",
      "source": [
        "twod[1,2]"
      ],
      "metadata": {
        "trusted": true,
        "colab": {
          "base_uri": "https://localhost:8080/"
        },
        "id": "TUDHHgc88LVY",
        "outputId": "36067f82-8165-4e41-cda6-54137e739f9a"
      },
      "outputs": [
        {
          "output_type": "execute_result",
          "data": {
            "text/plain": [
              "6"
            ]
          },
          "metadata": {},
          "execution_count": 30
        }
      ],
      "execution_count": 30
    },
    {
      "cell_type": "code",
      "source": [
        "threed"
      ],
      "metadata": {
        "trusted": true,
        "colab": {
          "base_uri": "https://localhost:8080/"
        },
        "id": "KmxJkuC98LVY",
        "outputId": "b8f8a134-caa8-451a-89e0-abc269150879"
      },
      "outputs": [
        {
          "output_type": "execute_result",
          "data": {
            "text/plain": [
              "array([[[1, 2],\n",
              "        [3, 4]],\n",
              "\n",
              "       [[6, 7],\n",
              "        [4, 5]],\n",
              "\n",
              "       [[2, 4],\n",
              "        [5, 6]]])"
            ]
          },
          "metadata": {},
          "execution_count": 31
        }
      ],
      "execution_count": 31
    },
    {
      "cell_type": "code",
      "source": [
        "np.mean(oned)"
      ],
      "metadata": {
        "trusted": true,
        "colab": {
          "base_uri": "https://localhost:8080/"
        },
        "id": "I03aqdjx8LVY",
        "outputId": "ee68c3cc-d8dd-404e-c961-2290e9d212ef"
      },
      "outputs": [
        {
          "output_type": "execute_result",
          "data": {
            "text/plain": [
              "3.5"
            ]
          },
          "metadata": {},
          "execution_count": 32
        }
      ],
      "execution_count": 32
    },
    {
      "cell_type": "code",
      "source": [
        "np.cumsum(oned)"
      ],
      "metadata": {
        "trusted": true,
        "colab": {
          "base_uri": "https://localhost:8080/"
        },
        "id": "biacxX6N8LVY",
        "outputId": "a9da66b9-ff8e-426f-e6d5-18f4933dac02"
      },
      "outputs": [
        {
          "output_type": "execute_result",
          "data": {
            "text/plain": [
              "array([ 1,  3,  6, 10, 15, 21])"
            ]
          },
          "metadata": {},
          "execution_count": 33
        }
      ],
      "execution_count": 33
    },
    {
      "cell_type": "code",
      "source": [
        "a=10\n",
        "b=5\n",
        "np.subtract(a,b)"
      ],
      "metadata": {
        "trusted": true,
        "colab": {
          "base_uri": "https://localhost:8080/"
        },
        "id": "HsLISjtg8LVY",
        "outputId": "1ef7ef63-1a42-4209-9efb-ed5ee221801a"
      },
      "outputs": [
        {
          "output_type": "execute_result",
          "data": {
            "text/plain": [
              "5"
            ]
          },
          "metadata": {},
          "execution_count": 34
        }
      ],
      "execution_count": 34
    },
    {
      "cell_type": "code",
      "source": [
        "twod"
      ],
      "metadata": {
        "trusted": true,
        "colab": {
          "base_uri": "https://localhost:8080/"
        },
        "id": "_RZ5BryO8LVY",
        "outputId": "120365b0-3341-41d1-ae21-0a8b3aa5e34d"
      },
      "outputs": [
        {
          "output_type": "execute_result",
          "data": {
            "text/plain": [
              "array([[1, 2, 3],\n",
              "       [4, 5, 6]])"
            ]
          },
          "metadata": {},
          "execution_count": 35
        }
      ],
      "execution_count": 35
    },
    {
      "cell_type": "code",
      "source": [
        "np.min(twod, axis = 1)"
      ],
      "metadata": {
        "trusted": true,
        "colab": {
          "base_uri": "https://localhost:8080/"
        },
        "id": "98HQr1pY8LVY",
        "outputId": "217ec8cf-e16d-4621-837c-ee24575e5c80"
      },
      "outputs": [
        {
          "output_type": "execute_result",
          "data": {
            "text/plain": [
              "array([1, 4])"
            ]
          },
          "metadata": {},
          "execution_count": 36
        }
      ],
      "execution_count": 36
    },
    {
      "cell_type": "code",
      "source": [
        "twod.reshape((3,2))"
      ],
      "metadata": {
        "trusted": true,
        "colab": {
          "base_uri": "https://localhost:8080/"
        },
        "id": "mZIaI2uh8LVY",
        "outputId": "42d4707b-5ceb-48cf-94ae-88ff75a09507"
      },
      "outputs": [
        {
          "output_type": "execute_result",
          "data": {
            "text/plain": [
              "array([[1, 2],\n",
              "       [3, 4],\n",
              "       [5, 6]])"
            ]
          },
          "metadata": {},
          "execution_count": 37
        }
      ],
      "execution_count": 37
    },
    {
      "cell_type": "code",
      "source": [
        "twod"
      ],
      "metadata": {
        "trusted": true,
        "colab": {
          "base_uri": "https://localhost:8080/"
        },
        "id": "ppgMSEMw8LVY",
        "outputId": "df5e93cb-ba6c-4757-b698-11748382e81c"
      },
      "outputs": [
        {
          "output_type": "execute_result",
          "data": {
            "text/plain": [
              "array([[1, 2, 3],\n",
              "       [4, 5, 6]])"
            ]
          },
          "metadata": {},
          "execution_count": 38
        }
      ],
      "execution_count": 38
    },
    {
      "cell_type": "code",
      "source": [
        "np.argmin(twod,axis = 1)"
      ],
      "metadata": {
        "trusted": true,
        "colab": {
          "base_uri": "https://localhost:8080/"
        },
        "id": "GzheyLA58LVY",
        "outputId": "18d67351-9d82-4b13-cfa9-0c232af64a5f"
      },
      "outputs": [
        {
          "output_type": "execute_result",
          "data": {
            "text/plain": [
              "array([0, 0])"
            ]
          },
          "metadata": {},
          "execution_count": 39
        }
      ],
      "execution_count": 39
    },
    {
      "cell_type": "code",
      "source": [
        "a = np.ones((2,3))\n",
        "b = np.full((3,2),3)"
      ],
      "metadata": {
        "trusted": true,
        "id": "x9XmwfIY8LVc"
      },
      "outputs": [],
      "execution_count": 40
    },
    {
      "cell_type": "code",
      "source": [
        "print(a)\n",
        "print(b)"
      ],
      "metadata": {
        "trusted": true,
        "colab": {
          "base_uri": "https://localhost:8080/"
        },
        "id": "FAhtOc2A8LVc",
        "outputId": "5d16d8a8-4f51-485f-d5e8-9d746dabab26"
      },
      "outputs": [
        {
          "output_type": "stream",
          "name": "stdout",
          "text": [
            "[[1. 1. 1.]\n",
            " [1. 1. 1.]]\n",
            "[[3 3]\n",
            " [3 3]\n",
            " [3 3]]\n"
          ]
        }
      ],
      "execution_count": 41
    },
    {
      "cell_type": "code",
      "source": [
        "np.matmul(a,b)"
      ],
      "metadata": {
        "trusted": true,
        "colab": {
          "base_uri": "https://localhost:8080/"
        },
        "id": "vXAOKiN68LVc",
        "outputId": "340346ae-f864-4188-9691-e73b074654cf"
      },
      "outputs": [
        {
          "output_type": "execute_result",
          "data": {
            "text/plain": [
              "array([[9., 9.],\n",
              "       [9., 9.]])"
            ]
          },
          "metadata": {},
          "execution_count": 42
        }
      ],
      "execution_count": 42
    },
    {
      "cell_type": "markdown",
      "source": [
        "A = [a11 a12]\n",
        "    [a21 a22]\n",
        "B = [b11 b12]\n",
        "    [b21 b22]\n",
        "\n",
        "C = A * B\n",
        "\n",
        "C = [c11 c12]\n",
        "    [c21 c22]\n",
        "\n",
        "c11 = a11*b11 + a12*b21\n",
        "c12 = a11*b12 + a12*b22\n",
        "c21 = a21*b11 + a22*b21\n",
        "c22 = a21*b12 + a22*b22\n"
      ],
      "metadata": {
        "id": "94hd6jiM8LVc"
      }
    },
    {
      "cell_type": "code",
      "source": [
        "# prompt: numpy.genfromtxt example code\n",
        "\n",
        "import numpy as np\n",
        "file_path = '/content/sample_data/mnist_test.csv'\n",
        "\n",
        "# Read a simple comma-separated file:\n",
        "data = np.genfromtxt(file_path, delimiter=',')\n",
        "print(data[:1])"
      ],
      "metadata": {
        "collapsed": true,
        "colab": {
          "base_uri": "https://localhost:8080/"
        },
        "id": "dcO80keM_UHy",
        "outputId": "ca702eeb-ef67-43ac-e2d9-bb61dd0aab66"
      },
      "execution_count": 57,
      "outputs": [
        {
          "output_type": "stream",
          "name": "stdout",
          "text": [
            "[[  7.   0.   0.   0.   0.   0.   0.   0.   0.   0.   0.   0.   0.   0.\n",
            "    0.   0.   0.   0.   0.   0.   0.   0.   0.   0.   0.   0.   0.   0.\n",
            "    0.   0.   0.   0.   0.   0.   0.   0.   0.   0.   0.   0.   0.   0.\n",
            "    0.   0.   0.   0.   0.   0.   0.   0.   0.   0.   0.   0.   0.   0.\n",
            "    0.   0.   0.   0.   0.   0.   0.   0.   0.   0.   0.   0.   0.   0.\n",
            "    0.   0.   0.   0.   0.   0.   0.   0.   0.   0.   0.   0.   0.   0.\n",
            "    0.   0.   0.   0.   0.   0.   0.   0.   0.   0.   0.   0.   0.   0.\n",
            "    0.   0.   0.   0.   0.   0.   0.   0.   0.   0.   0.   0.   0.   0.\n",
            "    0.   0.   0.   0.   0.   0.   0.   0.   0.   0.   0.   0.   0.   0.\n",
            "    0.   0.   0.   0.   0.   0.   0.   0.   0.   0.   0.   0.   0.   0.\n",
            "    0.   0.   0.   0.   0.   0.   0.   0.   0.   0.   0.   0.   0.   0.\n",
            "    0.   0.   0.   0.   0.   0.   0.   0.   0.   0.   0.   0.   0.   0.\n",
            "    0.   0.   0.   0.   0.   0.   0.   0.   0.   0.   0.   0.   0.   0.\n",
            "    0.   0.   0.   0.   0.   0.   0.   0.   0.   0.   0.   0.   0.   0.\n",
            "    0.   0.   0.   0.   0.   0.   0.  84. 185. 159. 151.  60.  36.   0.\n",
            "    0.   0.   0.   0.   0.   0.   0.   0.   0.   0.   0.   0.   0.   0.\n",
            "    0.   0.   0.   0.   0.   0.   0. 222. 254. 254. 254. 254. 241. 198.\n",
            "  198. 198. 198. 198. 198. 198. 198. 170.  52.   0.   0.   0.   0.   0.\n",
            "    0.   0.   0.   0.   0.   0.   0.  67. 114.  72. 114. 163. 227. 254.\n",
            "  225. 254. 254. 254. 250. 229. 254. 254. 140.   0.   0.   0.   0.   0.\n",
            "    0.   0.   0.   0.   0.   0.   0.   0.   0.   0.   0.   0.  17.  66.\n",
            "   14.  67.  67.  67.  59.  21. 236. 254. 106.   0.   0.   0.   0.   0.\n",
            "    0.   0.   0.   0.   0.   0.   0.   0.   0.   0.   0.   0.   0.   0.\n",
            "    0.   0.   0.   0.   0.  83. 253. 209.  18.   0.   0.   0.   0.   0.\n",
            "    0.   0.   0.   0.   0.   0.   0.   0.   0.   0.   0.   0.   0.   0.\n",
            "    0.   0.   0.   0.  22. 233. 255.  83.   0.   0.   0.   0.   0.   0.\n",
            "    0.   0.   0.   0.   0.   0.   0.   0.   0.   0.   0.   0.   0.   0.\n",
            "    0.   0.   0.   0. 129. 254. 238.  44.   0.   0.   0.   0.   0.   0.\n",
            "    0.   0.   0.   0.   0.   0.   0.   0.   0.   0.   0.   0.   0.   0.\n",
            "    0.   0.   0.  59. 249. 254.  62.   0.   0.   0.   0.   0.   0.   0.\n",
            "    0.   0.   0.   0.   0.   0.   0.   0.   0.   0.   0.   0.   0.   0.\n",
            "    0.   0.   0. 133. 254. 187.   5.   0.   0.   0.   0.   0.   0.   0.\n",
            "    0.   0.   0.   0.   0.   0.   0.   0.   0.   0.   0.   0.   0.   0.\n",
            "    0.   0.   9. 205. 248.  58.   0.   0.   0.   0.   0.   0.   0.   0.\n",
            "    0.   0.   0.   0.   0.   0.   0.   0.   0.   0.   0.   0.   0.   0.\n",
            "    0.   0. 126. 254. 182.   0.   0.   0.   0.   0.   0.   0.   0.   0.\n",
            "    0.   0.   0.   0.   0.   0.   0.   0.   0.   0.   0.   0.   0.   0.\n",
            "    0.  75. 251. 240.  57.   0.   0.   0.   0.   0.   0.   0.   0.   0.\n",
            "    0.   0.   0.   0.   0.   0.   0.   0.   0.   0.   0.   0.   0.   0.\n",
            "   19. 221. 254. 166.   0.   0.   0.   0.   0.   0.   0.   0.   0.   0.\n",
            "    0.   0.   0.   0.   0.   0.   0.   0.   0.   0.   0.   0.   0.   3.\n",
            "  203. 254. 219.  35.   0.   0.   0.   0.   0.   0.   0.   0.   0.   0.\n",
            "    0.   0.   0.   0.   0.   0.   0.   0.   0.   0.   0.   0.   0.  38.\n",
            "  254. 254.  77.   0.   0.   0.   0.   0.   0.   0.   0.   0.   0.   0.\n",
            "    0.   0.   0.   0.   0.   0.   0.   0.   0.   0.   0.   0.  31. 224.\n",
            "  254. 115.   1.   0.   0.   0.   0.   0.   0.   0.   0.   0.   0.   0.\n",
            "    0.   0.   0.   0.   0.   0.   0.   0.   0.   0.   0.   0. 133. 254.\n",
            "  254.  52.   0.   0.   0.   0.   0.   0.   0.   0.   0.   0.   0.   0.\n",
            "    0.   0.   0.   0.   0.   0.   0.   0.   0.   0.   0.  61. 242. 254.\n",
            "  254.  52.   0.   0.   0.   0.   0.   0.   0.   0.   0.   0.   0.   0.\n",
            "    0.   0.   0.   0.   0.   0.   0.   0.   0.   0.   0. 121. 254. 254.\n",
            "  219.  40.   0.   0.   0.   0.   0.   0.   0.   0.   0.   0.   0.   0.\n",
            "    0.   0.   0.   0.   0.   0.   0.   0.   0.   0.   0. 121. 254. 207.\n",
            "   18.   0.   0.   0.   0.   0.   0.   0.   0.   0.   0.   0.   0.   0.\n",
            "    0.   0.   0.   0.   0.   0.   0.   0.   0.   0.   0.   0.   0.   0.\n",
            "    0.   0.   0.   0.   0.   0.   0.   0.   0.   0.   0.   0.   0.   0.\n",
            "    0.]]\n"
          ]
        }
      ]
    },
    {
      "cell_type": "code",
      "source": [
        "data1 = np.array([12,14,15,33,45,67,89,45])\n",
        "data1"
      ],
      "metadata": {
        "trusted": true,
        "colab": {
          "base_uri": "https://localhost:8080/"
        },
        "id": "zMFqL4J48LVd",
        "outputId": "28dd2c3b-6dfa-49f6-b4ca-a78bfe6206bd"
      },
      "outputs": [
        {
          "output_type": "execute_result",
          "data": {
            "text/plain": [
              "array([12, 14, 15, 33, 45, 67, 89, 45])"
            ]
          },
          "metadata": {},
          "execution_count": 64
        }
      ],
      "execution_count": 64
    },
    {
      "cell_type": "code",
      "source": [
        "np.where(data1>67)"
      ],
      "metadata": {
        "trusted": true,
        "colab": {
          "base_uri": "https://localhost:8080/"
        },
        "id": "gyqAnTlF8LVd",
        "outputId": "4e1de817-5df0-49f7-d3df-ef975af2e2d7"
      },
      "outputs": [
        {
          "output_type": "execute_result",
          "data": {
            "text/plain": [
              "(array([6]),)"
            ]
          },
          "metadata": {},
          "execution_count": 68
        }
      ],
      "execution_count": 68
    },
    {
      "cell_type": "code",
      "source": [
        "np.where(data1>5,data1,0)"
      ],
      "metadata": {
        "trusted": true,
        "colab": {
          "base_uri": "https://localhost:8080/"
        },
        "id": "RxroysKx8LVd",
        "outputId": "40d38626-8911-44ce-e43b-4eeab1c2034b"
      },
      "outputs": [
        {
          "output_type": "execute_result",
          "data": {
            "text/plain": [
              "array([12, 14, 15, 33, 45, 67, 89, 45])"
            ]
          },
          "metadata": {},
          "execution_count": 66
        }
      ],
      "execution_count": 66
    },
    {
      "cell_type": "code",
      "source": [
        "list = (1,2.3,3,4.7,5,6,7,8,9,10)\n",
        "np.cumsum(list)"
      ],
      "metadata": {
        "colab": {
          "base_uri": "https://localhost:8080/"
        },
        "id": "CUVcdBU0CdOn",
        "outputId": "fdf6d831-9f8d-43cf-cee1-9e2e8a462f0a"
      },
      "execution_count": 72,
      "outputs": [
        {
          "output_type": "execute_result",
          "data": {
            "text/plain": [
              "array([ 1. ,  3.3,  6.3, 11. , 16. , 22. , 29. , 37. , 46. , 56. ])"
            ]
          },
          "metadata": {},
          "execution_count": 72
        }
      ]
    },
    {
      "cell_type": "code",
      "source": [
        "# prompt: convert a 2d array into a boolean array where positive values become true\n",
        "\n",
        "import numpy as np\n",
        "\n",
        "# Create a 2D array\n",
        "array = np.array([[1, -2, 3], [-4, 5, -6]])\n",
        "\n",
        "# Convert positive values to True\n",
        "bool_array = array > 0\n",
        "\n",
        "# Print the boolean array\n",
        "print(bool_array)\n"
      ],
      "metadata": {
        "colab": {
          "base_uri": "https://localhost:8080/"
        },
        "id": "KsZDcpfdCdRq",
        "outputId": "c21cd9c4-3424-4000-8407-de9a99a76918"
      },
      "execution_count": 73,
      "outputs": [
        {
          "output_type": "stream",
          "name": "stdout",
          "text": [
            "[[ True False  True]\n",
            " [False  True False]]\n"
          ]
        }
      ]
    },
    {
      "cell_type": "code",
      "source": [
        "l1 = np.arange(1,11)\n",
        "np.where(l1%2==0,l1*-1,l1)"
      ],
      "metadata": {
        "colab": {
          "base_uri": "https://localhost:8080/"
        },
        "id": "x5QRWcM_CdUv",
        "outputId": "cc8b5e71-6434-49a9-d667-18b339aa8690"
      },
      "execution_count": 75,
      "outputs": [
        {
          "output_type": "execute_result",
          "data": {
            "text/plain": [
              "array([  1,  -2,   3,  -4,   5,  -6,   7,  -8,   9, -10])"
            ]
          },
          "metadata": {},
          "execution_count": 75
        }
      ]
    },
    {
      "cell_type": "code",
      "source": [
        "arr = np.random.rand(3,3)\n",
        "arr_norm = (arr - np.mean(arr))/np.std(arr)\n",
        "arr_norm"
      ],
      "metadata": {
        "colab": {
          "base_uri": "https://localhost:8080/"
        },
        "id": "FmgWF1biCdXk",
        "outputId": "2b5f80c0-fb51-4d73-c7ac-97f23c9a8e43"
      },
      "execution_count": 76,
      "outputs": [
        {
          "output_type": "execute_result",
          "data": {
            "text/plain": [
              "array([[-0.0492723 ,  0.12976633, -0.76683128],\n",
              "       [ 0.86697317, -1.1345785 , -0.12429296],\n",
              "       [ 1.39586332,  1.31418731, -1.63181508]])"
            ]
          },
          "metadata": {},
          "execution_count": 76
        }
      ]
    },
    {
      "cell_type": "code",
      "source": [
        "# prompt: find the indices of non xero elemets in 2d array\n",
        "\n",
        "# Create a 2D array\n",
        "array = np.array([[0, 1, 0], [2, 0, 3], [0, 4, 0]])\n",
        "\n",
        "# Find the indices of non-zero elements\n",
        "r,c = np.where(array>0)\n",
        "print(r)\n",
        "print(c)\n",
        "\n",
        "\n"
      ],
      "metadata": {
        "colab": {
          "base_uri": "https://localhost:8080/"
        },
        "id": "Zbx8ts4vCdbA",
        "outputId": "476290d5-6a5b-44ed-df81-3e89d6017b7d"
      },
      "execution_count": 90,
      "outputs": [
        {
          "output_type": "stream",
          "name": "stdout",
          "text": [
            "[0 1 1 2]\n",
            "[1 0 2 1]\n"
          ]
        }
      ]
    },
    {
      "cell_type": "code",
      "source": [
        "arr2 = np.array([5,2,8,1,7])\n",
        "np.full(arr2.shape,np.mean(arr2))"
      ],
      "metadata": {
        "colab": {
          "base_uri": "https://localhost:8080/"
        },
        "id": "9q0Sg3HTKA6m",
        "outputId": "45e05ca4-b858-4442-8751-0571b541ba5b"
      },
      "execution_count": 97,
      "outputs": [
        {
          "output_type": "execute_result",
          "data": {
            "text/plain": [
              "array([4.6, 4.6, 4.6, 4.6, 4.6])"
            ]
          },
          "metadata": {},
          "execution_count": 97
        }
      ]
    },
    {
      "cell_type": "code",
      "source": [
        "# prompt: find the unique values and their counts in 1d array using numpy\n",
        "\n",
        "# Create a 1D array\n",
        "array = np.array([1, 2, 3, 4, 2, 5, 1, 6, 3, 4])\n",
        "\n",
        "# Find the unique values and their counts\n",
        "unique_values, counts = np.unique(array, return_counts=True)\n",
        "\n",
        "dict(zip(unique_values,counts))\n",
        "# Print the unique values and their counts\n",
        "# for i in range(len(unique_values)):\n",
        "#   print(f\"Unique value: {unique_values[i]}, Count: {counts[i]}\")\n"
      ],
      "metadata": {
        "colab": {
          "base_uri": "https://localhost:8080/"
        },
        "id": "DjIDP369OOh6",
        "outputId": "bec4f0c6-fbd0-4554-aefd-7300161e5b80"
      },
      "execution_count": 99,
      "outputs": [
        {
          "output_type": "execute_result",
          "data": {
            "text/plain": [
              "{1: 2, 2: 2, 3: 2, 4: 2, 5: 1, 6: 1}"
            ]
          },
          "metadata": {},
          "execution_count": 99
        }
      ]
    },
    {
      "cell_type": "code",
      "source": [
        "np.arange(0,9).reshape((3,3))"
      ],
      "metadata": {
        "colab": {
          "base_uri": "https://localhost:8080/"
        },
        "id": "qOvqoDUWOOj9",
        "outputId": "05c8336a-8e19-46a5-852e-894b4726bba1"
      },
      "execution_count": 101,
      "outputs": [
        {
          "output_type": "execute_result",
          "data": {
            "text/plain": [
              "array([[0, 1, 2],\n",
              "       [3, 4, 5],\n",
              "       [6, 7, 8]])"
            ]
          },
          "metadata": {},
          "execution_count": 101
        }
      ]
    },
    {
      "cell_type": "code",
      "source": [
        "twod"
      ],
      "metadata": {
        "colab": {
          "base_uri": "https://localhost:8080/"
        },
        "id": "FUksm5q5OOne",
        "outputId": "0900b26b-77a7-4fa0-b3ed-dde85f4c7d23"
      },
      "execution_count": 102,
      "outputs": [
        {
          "output_type": "execute_result",
          "data": {
            "text/plain": [
              "array([[1, 2, 3],\n",
              "       [4, 5, 6]])"
            ]
          },
          "metadata": {},
          "execution_count": 102
        }
      ]
    },
    {
      "cell_type": "code",
      "source": [
        "\n",
        "twod[[0,1]] = twod[[1,0]]\n",
        "twod"
      ],
      "metadata": {
        "colab": {
          "base_uri": "https://localhost:8080/"
        },
        "id": "cYJub_4lQpwQ",
        "outputId": "daf03f48-1c8a-4bcf-e1b1-565053e09b3d"
      },
      "execution_count": 107,
      "outputs": [
        {
          "output_type": "execute_result",
          "data": {
            "text/plain": [
              "array([[4, 5, 6],\n",
              "       [4, 5, 6]])"
            ]
          },
          "metadata": {},
          "execution_count": 107
        }
      ]
    },
    {
      "cell_type": "code",
      "source": [
        "# prompt: swap two rows in 2d array\n",
        "\n",
        "import numpy as np\n",
        "\n",
        "# Create a 2D array\n",
        "twod = np.array([[1, 2, 3], [4, 5, 6], [7, 8, 9]])\n",
        "print(twod)\n",
        "\n",
        "# Swap two rows\n",
        "twod[[0, 1]] = twod[[1, 0]]\n",
        "\n",
        "# Print the modified array\n",
        "print(twod)\n"
      ],
      "metadata": {
        "id": "v6v14SQxRRGB"
      },
      "execution_count": null,
      "outputs": []
    },
    {
      "cell_type": "code",
      "source": [
        "# prompt: generate some coding question on numpy\n",
        "\n",
        "# 1. Given a 2D array of integers, find the sum of all elements in the array.\n",
        "\n",
        "# 2. Given a 1D array of integers, find the mean, median, and standard deviation of the array.\n",
        "\n",
        "# 3. Given a 2D array of integers, find the maximum and minimum values in each row of the array.\n",
        "\n",
        "# 4. Given a 3D array of integers, find the sum of all elements in the array that are greater than a given threshold.\n",
        "\n",
        "# 5. Given a 2D array of integers, find the indices of all elements that are equal to a given value.\n",
        "\n",
        "# 6. Given a 1D array of integers, create a new array that contains the square of each element in the original array.\n",
        "\n",
        "# 7. Given a 2D array of integers, create a new array that contains the sum of each row in the original array.\n",
        "\n",
        "# 8. Given a 3D array of integers, create a new array that contains the maximum value in each column of the original array.\n",
        "\n",
        "# 9. Given a 2D array of integers, create a new array that contains the transpose of the original array.\n",
        "\n",
        "# 10. Given a 1D array of integers, create a new array that contains the elements of the original array in reverse order.\n"
      ],
      "metadata": {
        "id": "WNmiuaA-SSq9"
      },
      "execution_count": null,
      "outputs": []
    },
    {
      "cell_type": "code",
      "source": [
        "# prompt: create a 2d array with random values and sort each row in desending order\n",
        "\n",
        "import numpy as np\n",
        "\n",
        "# Create a 2D array with random values\n",
        "arr = np.random.randint(1, 100, size=(5, 5))\n",
        "\n",
        "# Sort each row in descending order\n",
        "arr = np.sort(arr, axis=1)[::-1]\n",
        "\n",
        "# Print the sorted array\n",
        "print(arr)\n"
      ],
      "metadata": {
        "id": "KZS1XYQPSStr"
      },
      "execution_count": null,
      "outputs": []
    },
    {
      "cell_type": "code",
      "source": [],
      "metadata": {
        "id": "Tet-LozHSSwk"
      },
      "execution_count": null,
      "outputs": []
    },
    {
      "cell_type": "code",
      "source": [],
      "metadata": {
        "id": "PQckSIkOSSzG"
      },
      "execution_count": null,
      "outputs": []
    },
    {
      "cell_type": "code",
      "source": [],
      "metadata": {
        "id": "j5G5h53uSS2E"
      },
      "execution_count": null,
      "outputs": []
    },
    {
      "cell_type": "code",
      "source": [],
      "metadata": {
        "id": "DZ-SPa7USS4v"
      },
      "execution_count": null,
      "outputs": []
    },
    {
      "cell_type": "code",
      "source": [],
      "metadata": {
        "id": "-ZePrE_ZSS8J"
      },
      "execution_count": null,
      "outputs": []
    }
  ]
}