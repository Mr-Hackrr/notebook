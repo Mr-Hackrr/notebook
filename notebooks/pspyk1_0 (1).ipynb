{
  "nbformat": 4,
  "nbformat_minor": 0,
  "metadata": {
    "colab": {
      "provenance": []
    },
    "kernelspec": {
      "name": "python3",
      "display_name": "Python 3"
    },
    "language_info": {
      "name": "python"
    }
  },
  "cells": [
    {
      "cell_type": "markdown",
      "source": [
        "#PySpark Practice Notebook"
      ],
      "metadata": {
        "id": "W6NeVZKBJR5G"
      }
    },
    {
      "cell_type": "code",
      "source": [
        "#Source Data\n",
        "#Create a csv file for the following data\n",
        "product_id,product,country,sales\n",
        "1,Product A,USA,100\n",
        "2,Product B,USA,80\n",
        "3,Product C,USA,30\n",
        "1,Product A,Canada,60\n",
        "2,Product B,Canada,40\n",
        "4,Product D,UK,50\n",
        "5,Product E,UK,20\n",
        "1,Product A,Germany,70\n",
        "3,Product C,Germany,90\n",
        "4,Product D,Germany,40"
      ],
      "metadata": {
        "id": "PQ1dB4lsJRQZ"
      },
      "execution_count": null,
      "outputs": []
    },
    {
      "cell_type": "code",
      "source": [
        "import csv\n",
        "\n",
        "# Define the data\n",
        "data = [\n",
        "    ['product_id', 'product', 'country', 'sales'],\n",
        "    [1, 'Product A', 'USA', 100],\n",
        "    [2, 'Product B', 'USA', 80],\n",
        "    [3, 'Product C', 'USA', 30],\n",
        "    [1, 'Product A', 'Canada', 60],\n",
        "    [2, 'Product B', 'Canada', 40],\n",
        "    [4, 'Product D', 'UK', 50],\n",
        "    [5, 'Product E', 'UK', 20],\n",
        "    [1, 'Product A', 'Germany', 70],\n",
        "    [3, 'Product C', 'Germany', 90],\n",
        "    [4, 'Product D', 'Germany', 40]\n",
        "]\n",
        "\n",
        "# Specify the filename\n",
        "filename = 'sales_data.csv'\n",
        "\n",
        "# Write to the CSV file\n",
        "with open(filename, 'w', newline='') as csvfile:\n",
        "    writer = csv.writer(csvfile)\n",
        "    writer.writerows(data)\n",
        "\n",
        "print(f\"CSV file '{filename}' created successfully.\")"
      ],
      "metadata": {
        "colab": {
          "base_uri": "https://localhost:8080/"
        },
        "id": "6277HKbuKvKj",
        "outputId": "984405a4-7884-4887-b45e-5db671d340d5"
      },
      "execution_count": 1,
      "outputs": [
        {
          "output_type": "stream",
          "name": "stdout",
          "text": [
            "CSV file 'sales_data.csv' created successfully.\n"
          ]
        }
      ]
    },
    {
      "cell_type": "code",
      "source": [
        "pip install pyspark"
      ],
      "metadata": {
        "colab": {
          "base_uri": "https://localhost:8080/"
        },
        "id": "9UUwHs6KL-5P",
        "outputId": "187cd1fd-aff9-401e-b6b3-836c04e557d4"
      },
      "execution_count": 3,
      "outputs": [
        {
          "output_type": "stream",
          "name": "stdout",
          "text": [
            "Collecting pyspark\n",
            "  Downloading pyspark-3.5.1.tar.gz (317.0 MB)\n",
            "\u001b[2K     \u001b[90m━━━━━━━━━━━━━━━━━━━━━━━━━━━━━━━━━━━━━━━━\u001b[0m \u001b[32m317.0/317.0 MB\u001b[0m \u001b[31m3.9 MB/s\u001b[0m eta \u001b[36m0:00:00\u001b[0m\n",
            "\u001b[?25h  Preparing metadata (setup.py) ... \u001b[?25l\u001b[?25hdone\n",
            "Requirement already satisfied: py4j==0.10.9.7 in /usr/local/lib/python3.10/dist-packages (from pyspark) (0.10.9.7)\n",
            "Building wheels for collected packages: pyspark\n",
            "  Building wheel for pyspark (setup.py) ... \u001b[?25l\u001b[?25hdone\n",
            "  Created wheel for pyspark: filename=pyspark-3.5.1-py2.py3-none-any.whl size=317488491 sha256=4ac7afd7195798b9424c0c572ae4e55882266fb6afda5ef433ab33d15c4e45d1\n",
            "  Stored in directory: /root/.cache/pip/wheels/80/1d/60/2c256ed38dddce2fdd93be545214a63e02fbd8d74fb0b7f3a6\n",
            "Successfully built pyspark\n",
            "Installing collected packages: pyspark\n",
            "Successfully installed pyspark-3.5.1\n"
          ]
        }
      ]
    },
    {
      "cell_type": "code",
      "execution_count": 4,
      "metadata": {
        "id": "z3H-jZd_I0xr"
      },
      "outputs": [],
      "source": [
        "#Import Pyspark & other necessary functions\n",
        "from pyspark.sql import SparkSession"
      ]
    },
    {
      "cell_type": "code",
      "source": [
        "#Create SparkSession for app \"Sales Data Analysis\"\n",
        "spark = SparkSession.builder.appName('Sales Data Analysis').getOrCreate()"
      ],
      "metadata": {
        "id": "ZFPi1eqMKFF7"
      },
      "execution_count": 5,
      "outputs": []
    },
    {
      "cell_type": "code",
      "source": [
        "#Create a pyspark DataFrame from the csv file on local storage\n",
        "df = spark.read.option(\"Header\",\"True\").csv(\"sales_data.csv\")"
      ],
      "metadata": {
        "id": "kLiq1rcAJiV5"
      },
      "execution_count": 8,
      "outputs": []
    },
    {
      "cell_type": "code",
      "source": [
        "#Verify schema for the newly created file\n",
        "df.show()\n",
        "#df.printSchema()"
      ],
      "metadata": {
        "id": "_fQfbu4_JiYf",
        "colab": {
          "base_uri": "https://localhost:8080/"
        },
        "outputId": "6bb9bc98-da00-4608-abf9-d67e057dbc96"
      },
      "execution_count": 11,
      "outputs": [
        {
          "output_type": "stream",
          "name": "stdout",
          "text": [
            "+----------+---------+-------+-----+\n",
            "|product_id|  product|country|sales|\n",
            "+----------+---------+-------+-----+\n",
            "|         1|Product A|    USA|  100|\n",
            "|         2|Product B|    USA|   80|\n",
            "|         3|Product C|    USA|   30|\n",
            "|         1|Product A| Canada|   60|\n",
            "|         2|Product B| Canada|   40|\n",
            "|         4|Product D|     UK|   50|\n",
            "|         5|Product E|     UK|   20|\n",
            "|         1|Product A|Germany|   70|\n",
            "|         3|Product C|Germany|   90|\n",
            "|         4|Product D|Germany|   40|\n",
            "+----------+---------+-------+-----+\n",
            "\n"
          ]
        }
      ]
    },
    {
      "cell_type": "code",
      "source": [
        "#Display all entries for country \"Germany\"\n",
        "df.filter(df[\"country\"] == 'Germany').show()"
      ],
      "metadata": {
        "id": "U4k8qR1zJia2",
        "colab": {
          "base_uri": "https://localhost:8080/"
        },
        "outputId": "8dccb3b5-75c9-466d-9c74-77b9375592ae"
      },
      "execution_count": 14,
      "outputs": [
        {
          "output_type": "stream",
          "name": "stdout",
          "text": [
            "+----------+---------+-------+-----+\n",
            "|product_id|  product|country|sales|\n",
            "+----------+---------+-------+-----+\n",
            "|         1|Product A|Germany|   70|\n",
            "|         3|Product C|Germany|   90|\n",
            "|         4|Product D|Germany|   40|\n",
            "+----------+---------+-------+-----+\n",
            "\n"
          ]
        }
      ]
    },
    {
      "cell_type": "code",
      "source": [
        "#Find the total number of products\n",
        "df.select(\"product_id\").distinct().count()"
      ],
      "metadata": {
        "id": "e5PRmHMuJ47W",
        "colab": {
          "base_uri": "https://localhost:8080/"
        },
        "outputId": "e04df273-75a4-4087-e9cf-4087a09f7e8d"
      },
      "execution_count": 15,
      "outputs": [
        {
          "output_type": "execute_result",
          "data": {
            "text/plain": [
              "5"
            ]
          },
          "metadata": {},
          "execution_count": 15
        }
      ]
    },
    {
      "cell_type": "code",
      "source": [
        "#Find top 3 products\n"
      ],
      "metadata": {
        "id": "fFz6bN_dJ49q"
      },
      "execution_count": null,
      "outputs": []
    },
    {
      "cell_type": "code",
      "source": [
        "#Calculate total sales\n"
      ],
      "metadata": {
        "id": "j4vyUsi2J5AR"
      },
      "execution_count": null,
      "outputs": []
    },
    {
      "cell_type": "code",
      "source": [
        "#Find the market share of all products individually\n"
      ],
      "metadata": {
        "id": "WTxjxvceJ5Ct"
      },
      "execution_count": null,
      "outputs": []
    }
  ]
}