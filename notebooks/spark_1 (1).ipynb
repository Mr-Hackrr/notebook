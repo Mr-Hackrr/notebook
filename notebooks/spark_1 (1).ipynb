{
  "nbformat": 4,
  "nbformat_minor": 0,
  "metadata": {
    "colab": {
      "provenance": []
    },
    "kernelspec": {
      "name": "python3",
      "display_name": "Python 3"
    },
    "language_info": {
      "name": "python"
    }
  },
  "cells": [
    {
      "cell_type": "code",
      "execution_count": 1,
      "metadata": {
        "colab": {
          "base_uri": "https://localhost:8080/"
        },
        "id": "5u8iywh73tRY",
        "outputId": "a74429e4-8f86-476d-b621-9b11ffdde516"
      },
      "outputs": [
        {
          "output_type": "stream",
          "name": "stdout",
          "text": [
            "Collecting pyspark\n",
            "  Downloading pyspark-3.5.1.tar.gz (317.0 MB)\n",
            "\u001b[2K     \u001b[90m━━━━━━━━━━━━━━━━━━━━━━━━━━━━━━━━━━━━━━━━\u001b[0m \u001b[32m317.0/317.0 MB\u001b[0m \u001b[31m3.3 MB/s\u001b[0m eta \u001b[36m0:00:00\u001b[0m\n",
            "\u001b[?25h  Preparing metadata (setup.py) ... \u001b[?25l\u001b[?25hdone\n",
            "Requirement already satisfied: py4j==0.10.9.7 in /usr/local/lib/python3.10/dist-packages (from pyspark) (0.10.9.7)\n",
            "Building wheels for collected packages: pyspark\n",
            "  Building wheel for pyspark (setup.py) ... \u001b[?25l\u001b[?25hdone\n",
            "  Created wheel for pyspark: filename=pyspark-3.5.1-py2.py3-none-any.whl size=317488491 sha256=71c83ab5952d5640509e2afc0c4ced3182a6903e1312e8b64dd31fc42f174ce5\n",
            "  Stored in directory: /root/.cache/pip/wheels/80/1d/60/2c256ed38dddce2fdd93be545214a63e02fbd8d74fb0b7f3a6\n",
            "Successfully built pyspark\n",
            "Installing collected packages: pyspark\n",
            "Successfully installed pyspark-3.5.1\n"
          ]
        }
      ],
      "source": [
        "pip install pyspark"
      ]
    },
    {
      "cell_type": "code",
      "source": [
        "from pyspark.sql import SparkSession\n",
        "\n",
        "spark = SparkSession.builder.appName('Govardhan').getOrCreate()"
      ],
      "metadata": {
        "id": "pkiDt-pdGqo1"
      },
      "execution_count": 2,
      "outputs": []
    },
    {
      "cell_type": "code",
      "source": [
        "spark"
      ],
      "metadata": {
        "colab": {
          "base_uri": "https://localhost:8080/",
          "height": 219
        },
        "id": "yaDU8RllGqq9",
        "outputId": "7f822a25-777a-4ec8-cb4e-f8d54b66eb84"
      },
      "execution_count": 3,
      "outputs": [
        {
          "output_type": "execute_result",
          "data": {
            "text/plain": [
              "<pyspark.sql.session.SparkSession at 0x7c6c273c29e0>"
            ],
            "text/html": [
              "\n",
              "            <div>\n",
              "                <p><b>SparkSession - in-memory</b></p>\n",
              "                \n",
              "        <div>\n",
              "            <p><b>SparkContext</b></p>\n",
              "\n",
              "            <p><a href=\"http://9a4bb41eeabc:4040\">Spark UI</a></p>\n",
              "\n",
              "            <dl>\n",
              "              <dt>Version</dt>\n",
              "                <dd><code>v3.5.1</code></dd>\n",
              "              <dt>Master</dt>\n",
              "                <dd><code>local[*]</code></dd>\n",
              "              <dt>AppName</dt>\n",
              "                <dd><code>Govardhan</code></dd>\n",
              "            </dl>\n",
              "        </div>\n",
              "        \n",
              "            </div>\n",
              "        "
            ]
          },
          "metadata": {},
          "execution_count": 3
        }
      ]
    },
    {
      "cell_type": "code",
      "source": [
        "df = spark.read.option(\"Header\",\"True\").csv(\"/content/automobile.csv\")"
      ],
      "metadata": {
        "id": "1eLrHAyPGqxD"
      },
      "execution_count": 4,
      "outputs": []
    },
    {
      "cell_type": "code",
      "source": [
        "df.show()"
      ],
      "metadata": {
        "colab": {
          "base_uri": "https://localhost:8080/"
        },
        "id": "Q_S8OmFJK2q6",
        "outputId": "ed42d204-b310-4767-c303-bd2ec6486e77"
      },
      "execution_count": 5,
      "outputs": [
        {
          "output_type": "stream",
          "name": "stdout",
          "text": [
            "+-----------+-----------+------+------+-------+-------+\n",
            "|    company| body-style|length|engine|mileage|sunroof|\n",
            "+-----------+-----------+------+------+-------+-------+\n",
            "|alfa-romero|convertible| 168.8|  dohc|     21|     No|\n",
            "|alfa-romero|  hatchback| 171.2|  dohc|     19|     No|\n",
            "|       audi|      sedan| 176.6|   ohc|     24|    Yes|\n",
            "|       audi|      sedan| 176.6|  None|     18|    Yes|\n",
            "|       audi|      sedan| 177.3|   ohc|     19|    Yes|\n",
            "|       audi|      wagon| 192.7|   ohc|     19|    Yes|\n",
            "|        bmw|      sedan| 176.8|   ohc|     23|    Yes|\n",
            "|        bmw|      sedan| 176.8|   ohc|     23|    Yes|\n",
            "|        bmw|      sedan| 176.8|   ohc|     21|    Yes|\n",
            "|        bmw|      sedan|   189|   ohc|     16|    Yes|\n",
            "|        bmw|      sedan| 193.8|   ohc|     16|    Yes|\n",
            "|        bmw|      sedan|   197|   ohc|     15|    Yes|\n",
            "|  chevrolet|  hatchback| 141.1|   ohc|     47|     No|\n",
            "|  chevrolet|  hatchback| 155.9|   ohc|     38|     No|\n",
            "|  chevrolet|      sedan| 158.8|   ohc|     38|     No|\n",
            "|      dodge|  hatchback| 157.3|   ohc|     31|     No|\n",
            "|      dodge|  hatchback| 157.3|   ohc|     31|     No|\n",
            "|      honda|      wagon| 157.1|   ohc|     30|     No|\n",
            "|      honda|      sedan| 175.4|   ohc|     24|     No|\n",
            "|      honda|      sedan| 169.1|   ohc|     25|     No|\n",
            "+-----------+-----------+------+------+-------+-------+\n",
            "only showing top 20 rows\n",
            "\n"
          ]
        }
      ]
    },
    {
      "cell_type": "code",
      "source": [
        "df.select(\"company\").distinct().show()"
      ],
      "metadata": {
        "colab": {
          "base_uri": "https://localhost:8080/"
        },
        "id": "KM98CGJvK6wB",
        "outputId": "3322a573-f5c1-4ac2-b7ac-f08d3381e674"
      },
      "execution_count": 6,
      "outputs": [
        {
          "output_type": "stream",
          "name": "stdout",
          "text": [
            "+-------------+\n",
            "|      company|\n",
            "+-------------+\n",
            "|       jaguar|\n",
            "|   mitsubishi|\n",
            "|       toyota|\n",
            "|         audi|\n",
            "|  alfa-romero|\n",
            "|          bmw|\n",
            "|        dodge|\n",
            "|        mazda|\n",
            "|mercedes-benz|\n",
            "|        isuzu|\n",
            "|      porsche|\n",
            "|    chevrolet|\n",
            "|        honda|\n",
            "|   volkswagen|\n",
            "|       nissan|\n",
            "|        volvo|\n",
            "+-------------+\n",
            "\n"
          ]
        }
      ]
    },
    {
      "cell_type": "code",
      "source": [
        "#find all body style of cars\n",
        "df.select(\"body-style\").distinct().show()"
      ],
      "metadata": {
        "colab": {
          "base_uri": "https://localhost:8080/"
        },
        "id": "pkQrNNHML1Ye",
        "outputId": "2f452da4-4ec2-4132-99c7-2abe7b13ab41"
      },
      "execution_count": 7,
      "outputs": [
        {
          "output_type": "stream",
          "name": "stdout",
          "text": [
            "+-----------+\n",
            "| body-style|\n",
            "+-----------+\n",
            "|      wagon|\n",
            "|convertible|\n",
            "|      sedan|\n",
            "|  hatchback|\n",
            "|    hardtop|\n",
            "+-----------+\n",
            "\n"
          ]
        }
      ]
    },
    {
      "cell_type": "code",
      "source": [
        "df.limit(3).show()"
      ],
      "metadata": {
        "colab": {
          "base_uri": "https://localhost:8080/"
        },
        "id": "sE2DqNlBNIDI",
        "outputId": "abfe1b7b-4675-4b7e-9a25-373cb2fd8bea"
      },
      "execution_count": 8,
      "outputs": [
        {
          "output_type": "stream",
          "name": "stdout",
          "text": [
            "+-----------+-----------+------+------+-------+-------+\n",
            "|    company| body-style|length|engine|mileage|sunroof|\n",
            "+-----------+-----------+------+------+-------+-------+\n",
            "|alfa-romero|convertible| 168.8|  dohc|     21|     No|\n",
            "|alfa-romero|  hatchback| 171.2|  dohc|     19|     No|\n",
            "|       audi|      sedan| 176.6|   ohc|     24|    Yes|\n",
            "+-----------+-----------+------+------+-------+-------+\n",
            "\n"
          ]
        }
      ]
    },
    {
      "cell_type": "code",
      "source": [
        "#find top three models by length\n",
        "df.sort(df.length.desc()).limit(3).show()\n"
      ],
      "metadata": {
        "colab": {
          "base_uri": "https://localhost:8080/"
        },
        "id": "BlguDHlnMw3b",
        "outputId": "4d828a02-b44a-4417-d901-9d79608b639c"
      },
      "execution_count": 9,
      "outputs": [
        {
          "output_type": "stream",
          "name": "stdout",
          "text": [
            "+-------------+----------+------+------+-------+-------+\n",
            "|      company|body-style|length|engine|mileage|sunroof|\n",
            "+-------------+----------+------+------+-------+-------+\n",
            "|mercedes-benz|     sedan| 208.1|  ohcv|     14|    Yes|\n",
            "|       jaguar|     sedan| 199.6|  dohc|     15|    Yes|\n",
            "|       jaguar|     sedan| 199.6|  dohc|     15|    Yes|\n",
            "+-------------+----------+------+------+-------+-------+\n",
            "\n"
          ]
        }
      ]
    },
    {
      "cell_type": "code",
      "source": [
        "#find all car models above 160 length\n",
        "df[df['length']>160].show()"
      ],
      "metadata": {
        "colab": {
          "base_uri": "https://localhost:8080/"
        },
        "id": "q4EC4xNFNbEq",
        "outputId": "c2ca6d09-38ca-4b03-eb90-a7588d4f037d"
      },
      "execution_count": 10,
      "outputs": [
        {
          "output_type": "stream",
          "name": "stdout",
          "text": [
            "+-----------+-----------+------+------+-------+-------+\n",
            "|    company| body-style|length|engine|mileage|sunroof|\n",
            "+-----------+-----------+------+------+-------+-------+\n",
            "|alfa-romero|convertible| 168.8|  dohc|     21|     No|\n",
            "|alfa-romero|  hatchback| 171.2|  dohc|     19|     No|\n",
            "|       audi|      sedan| 176.6|   ohc|     24|    Yes|\n",
            "|       audi|      sedan| 176.6|  None|     18|    Yes|\n",
            "|       audi|      sedan| 177.3|   ohc|     19|    Yes|\n",
            "|       audi|      wagon| 192.7|   ohc|     19|    Yes|\n",
            "|        bmw|      sedan| 176.8|   ohc|     23|    Yes|\n",
            "|        bmw|      sedan| 176.8|   ohc|     23|    Yes|\n",
            "|        bmw|      sedan| 176.8|   ohc|     21|    Yes|\n",
            "|        bmw|      sedan|   189|   ohc|     16|    Yes|\n",
            "|        bmw|      sedan| 193.8|   ohc|     16|    Yes|\n",
            "|        bmw|      sedan|   197|   ohc|     15|    Yes|\n",
            "|      honda|      sedan| 175.4|   ohc|     24|     No|\n",
            "|      honda|      sedan| 169.1|   ohc|     25|     No|\n",
            "|      isuzu|      sedan| 170.7|   ohc|     24|     No|\n",
            "|     jaguar|      sedan| 199.6|  dohc|     15|    Yes|\n",
            "|     jaguar|      sedan| 199.6|  dohc|     15|    Yes|\n",
            "|     jaguar|      sedan| 191.7|  ohcv|     13|    Yes|\n",
            "|      mazda|  hatchback|   169| rotor|     17|    Yes|\n",
            "|      mazda|      sedan|   175|   ohc|     31|    Yes|\n",
            "+-----------+-----------+------+------+-------+-------+\n",
            "only showing top 20 rows\n",
            "\n"
          ]
        }
      ]
    },
    {
      "cell_type": "code",
      "source": [
        "#top 5 cars with maximum mileage\n",
        "df.sort(df.mileage.desc()).limit(5).show()"
      ],
      "metadata": {
        "colab": {
          "base_uri": "https://localhost:8080/"
        },
        "id": "RlrGpEFVPXfq",
        "outputId": "6d9414f5-dc7d-4baf-d6f1-3a330ceccb4e"
      },
      "execution_count": 11,
      "outputs": [
        {
          "output_type": "stream",
          "name": "stdout",
          "text": [
            "+---------+----------+------+------+-------+-------+\n",
            "|  company|body-style|length|engine|mileage|sunroof|\n",
            "+---------+----------+------+------+-------+-------+\n",
            "|chevrolet| hatchback| 141.1|   ohc|     47|     No|\n",
            "|   nissan|     sedan| 165.3|   ohc|     45|     No|\n",
            "|    isuzu|     sedan| 155.9|   ohc|     38|     No|\n",
            "|chevrolet|     sedan| 158.8|   ohc|     38|     No|\n",
            "|chevrolet| hatchback| 155.9|   ohc|     38|     No|\n",
            "+---------+----------+------+------+-------+-------+\n",
            "\n"
          ]
        }
      ]
    },
    {
      "cell_type": "code",
      "source": [
        "#count no of cars with sunroof\n",
        "df[df['sunroof'] == 'Yes'].count()"
      ],
      "metadata": {
        "colab": {
          "base_uri": "https://localhost:8080/"
        },
        "id": "FaLJ4xKVUBOS",
        "outputId": "a5e42be8-0a77-47dc-854a-694cf0167b9f"
      },
      "execution_count": 12,
      "outputs": [
        {
          "output_type": "execute_result",
          "data": {
            "text/plain": [
              "33"
            ]
          },
          "metadata": {},
          "execution_count": 12
        }
      ]
    },
    {
      "cell_type": "code",
      "source": [
        "from pyspark.sql.functions import col"
      ],
      "metadata": {
        "id": "VdYZh7vmUBRR"
      },
      "execution_count": 13,
      "outputs": []
    },
    {
      "cell_type": "code",
      "source": [
        "# # prompt: geneate basic syntaxes of pyspark\n",
        "\n",
        "# # Create a SparkSession\n",
        "# spark = SparkSession.builder.appName(\"MyApp\").getOrCreate()\n",
        "\n",
        "# # Read data from a CSV file\n",
        "# df = spark.read.csv(\"path/to/file.csv\", header=True, inferSchema=True)\n",
        "\n",
        "# # Display the DataFrame\n",
        "# df.show()\n",
        "\n",
        "# # Select specific columns\n",
        "# df.select(\"column1\", \"column2\").show()\n",
        "\n",
        "# # Filter data\n",
        "# df.filter(df[\"column1\"] > 10).show()\n",
        "\n",
        "# # Group data and perform aggregation\n",
        "# df.groupBy(\"column1\").count().show()\n",
        "\n",
        "# # Order data\n",
        "# df.orderBy(\"column1\").show()\n",
        "\n",
        "# # Write data to a file\n",
        "# df.write.csv(\"path/to/output.csv\", header=True, mode=\"overwrite\")\n",
        "\n",
        "# # Stop the SparkSession\n",
        "# spark.stop()\n"
      ],
      "metadata": {
        "id": "TGjsLXgKUBUz"
      },
      "execution_count": null,
      "outputs": []
    },
    {
      "cell_type": "code",
      "source": [
        "df.show()"
      ],
      "metadata": {
        "colab": {
          "base_uri": "https://localhost:8080/"
        },
        "id": "hwfI1660UIzS",
        "outputId": "88532e14-5d02-4e20-fd67-ea15ff60209a"
      },
      "execution_count": 15,
      "outputs": [
        {
          "output_type": "stream",
          "name": "stdout",
          "text": [
            "+-----------+-----------+------+------+-------+-------+\n",
            "|    company| body-style|length|engine|mileage|sunroof|\n",
            "+-----------+-----------+------+------+-------+-------+\n",
            "|alfa-romero|convertible| 168.8|  dohc|     21|     No|\n",
            "|alfa-romero|  hatchback| 171.2|  dohc|     19|     No|\n",
            "|       audi|      sedan| 176.6|   ohc|     24|    Yes|\n",
            "|       audi|      sedan| 176.6|  None|     18|    Yes|\n",
            "|       audi|      sedan| 177.3|   ohc|     19|    Yes|\n",
            "|       audi|      wagon| 192.7|   ohc|     19|    Yes|\n",
            "|        bmw|      sedan| 176.8|   ohc|     23|    Yes|\n",
            "|        bmw|      sedan| 176.8|   ohc|     23|    Yes|\n",
            "|        bmw|      sedan| 176.8|   ohc|     21|    Yes|\n",
            "|        bmw|      sedan|   189|   ohc|     16|    Yes|\n",
            "|        bmw|      sedan| 193.8|   ohc|     16|    Yes|\n",
            "|        bmw|      sedan|   197|   ohc|     15|    Yes|\n",
            "|  chevrolet|  hatchback| 141.1|   ohc|     47|     No|\n",
            "|  chevrolet|  hatchback| 155.9|   ohc|     38|     No|\n",
            "|  chevrolet|      sedan| 158.8|   ohc|     38|     No|\n",
            "|      dodge|  hatchback| 157.3|   ohc|     31|     No|\n",
            "|      dodge|  hatchback| 157.3|   ohc|     31|     No|\n",
            "|      honda|      wagon| 157.1|   ohc|     30|     No|\n",
            "|      honda|      sedan| 175.4|   ohc|     24|     No|\n",
            "|      honda|      sedan| 169.1|   ohc|     25|     No|\n",
            "+-----------+-----------+------+------+-------+-------+\n",
            "only showing top 20 rows\n",
            "\n"
          ]
        }
      ]
    },
    {
      "cell_type": "code",
      "source": [
        "df.printSchema()"
      ],
      "metadata": {
        "colab": {
          "base_uri": "https://localhost:8080/"
        },
        "id": "y_hzBvSTUI1a",
        "outputId": "6df6b5c5-54a9-4f15-ef76-07b3d9c753b7"
      },
      "execution_count": 17,
      "outputs": [
        {
          "output_type": "stream",
          "name": "stdout",
          "text": [
            "root\n",
            " |-- company: string (nullable = true)\n",
            " |-- body-style: string (nullable = true)\n",
            " |-- length: string (nullable = true)\n",
            " |-- engine: string (nullable = true)\n",
            " |-- mileage: string (nullable = true)\n",
            " |-- sunroof: string (nullable = true)\n",
            "\n"
          ]
        }
      ]
    },
    {
      "cell_type": "code",
      "source": [
        "df.describe().show()"
      ],
      "metadata": {
        "colab": {
          "base_uri": "https://localhost:8080/"
        },
        "id": "OZteKclJUI49",
        "outputId": "294eed59-4212-4dad-ebac-6ab4195b09ec"
      },
      "execution_count": 21,
      "outputs": [
        {
          "output_type": "stream",
          "name": "stdout",
          "text": [
            "+-------+-----------+-----------+------------------+------+------------------+-------+\n",
            "|summary|    company| body-style|            length|engine|           mileage|sunroof|\n",
            "+-------+-----------+-----------+------------------+------+------------------+-------+\n",
            "|  count|         60|         60|                60|    60|                60|     60|\n",
            "|   mean|       NULL|       NULL|173.17000000000007|  NULL|25.883333333333333|   NULL|\n",
            "| stddev|       NULL|       NULL| 14.12891373707938|  NULL| 8.174146234724864|   NULL|\n",
            "|    min|alfa-romero|convertible|             141.1|  None|                13|     No|\n",
            "|    max|      volvo|      wagon|             208.1| rotor|                47|    Yes|\n",
            "+-------+-----------+-----------+------------------+------+------------------+-------+\n",
            "\n"
          ]
        }
      ]
    },
    {
      "cell_type": "code",
      "source": [
        "df.select(\"company\").show()"
      ],
      "metadata": {
        "colab": {
          "base_uri": "https://localhost:8080/"
        },
        "id": "3PUHAmPFU691",
        "outputId": "869cac30-e948-4b47-a90b-a687626e1467"
      },
      "execution_count": 23,
      "outputs": [
        {
          "output_type": "stream",
          "name": "stdout",
          "text": [
            "+-----------+\n",
            "|    company|\n",
            "+-----------+\n",
            "|alfa-romero|\n",
            "|alfa-romero|\n",
            "|       audi|\n",
            "|       audi|\n",
            "|       audi|\n",
            "|       audi|\n",
            "|        bmw|\n",
            "|        bmw|\n",
            "|        bmw|\n",
            "|        bmw|\n",
            "|        bmw|\n",
            "|        bmw|\n",
            "|  chevrolet|\n",
            "|  chevrolet|\n",
            "|  chevrolet|\n",
            "|      dodge|\n",
            "|      dodge|\n",
            "|      honda|\n",
            "|      honda|\n",
            "|      honda|\n",
            "+-----------+\n",
            "only showing top 20 rows\n",
            "\n"
          ]
        }
      ]
    },
    {
      "cell_type": "code",
      "source": [
        "df.select(df['company'],df['mileage']).show()"
      ],
      "metadata": {
        "colab": {
          "base_uri": "https://localhost:8080/"
        },
        "id": "CYWTLd7xVeOK",
        "outputId": "84c54c87-2553-4f45-c924-bcff5eca7ebc"
      },
      "execution_count": 26,
      "outputs": [
        {
          "output_type": "stream",
          "name": "stdout",
          "text": [
            "+-----------+-------+\n",
            "|    company|mileage|\n",
            "+-----------+-------+\n",
            "|alfa-romero|     21|\n",
            "|alfa-romero|     19|\n",
            "|       audi|     24|\n",
            "|       audi|     18|\n",
            "|       audi|     19|\n",
            "|       audi|     19|\n",
            "|        bmw|     23|\n",
            "|        bmw|     23|\n",
            "|        bmw|     21|\n",
            "|        bmw|     16|\n",
            "|        bmw|     16|\n",
            "|        bmw|     15|\n",
            "|  chevrolet|     47|\n",
            "|  chevrolet|     38|\n",
            "|  chevrolet|     38|\n",
            "|      dodge|     31|\n",
            "|      dodge|     31|\n",
            "|      honda|     30|\n",
            "|      honda|     24|\n",
            "|      honda|     25|\n",
            "+-----------+-------+\n",
            "only showing top 20 rows\n",
            "\n"
          ]
        }
      ]
    },
    {
      "cell_type": "code",
      "source": [
        "#filtering rows\n",
        "df.filter(\"mileage > 20\").show()"
      ],
      "metadata": {
        "colab": {
          "base_uri": "https://localhost:8080/"
        },
        "id": "WhhC_lYDVpYv",
        "outputId": "faa0eb45-7826-404e-c307-28dab02bfb2e"
      },
      "execution_count": 27,
      "outputs": [
        {
          "output_type": "stream",
          "name": "stdout",
          "text": [
            "+-----------+-----------+------+------+-------+-------+\n",
            "|    company| body-style|length|engine|mileage|sunroof|\n",
            "+-----------+-----------+------+------+-------+-------+\n",
            "|alfa-romero|convertible| 168.8|  dohc|     21|     No|\n",
            "|       audi|      sedan| 176.6|   ohc|     24|    Yes|\n",
            "|        bmw|      sedan| 176.8|   ohc|     23|    Yes|\n",
            "|        bmw|      sedan| 176.8|   ohc|     23|    Yes|\n",
            "|        bmw|      sedan| 176.8|   ohc|     21|    Yes|\n",
            "|  chevrolet|  hatchback| 141.1|   ohc|     47|     No|\n",
            "|  chevrolet|  hatchback| 155.9|   ohc|     38|     No|\n",
            "|  chevrolet|      sedan| 158.8|   ohc|     38|     No|\n",
            "|      dodge|  hatchback| 157.3|   ohc|     31|     No|\n",
            "|      dodge|  hatchback| 157.3|   ohc|     31|     No|\n",
            "|      honda|      wagon| 157.1|   ohc|     30|     No|\n",
            "|      honda|      sedan| 175.4|   ohc|     24|     No|\n",
            "|      honda|      sedan| 169.1|   ohc|     25|     No|\n",
            "|      isuzu|      sedan| 170.7|   ohc|     24|     No|\n",
            "|      isuzu|      sedan| 155.9|   ohc|     38|     No|\n",
            "|      isuzu|      sedan| 155.9|   ohc|     38|     No|\n",
            "|      mazda|  hatchback| 159.1|   ohc|     30|    Yes|\n",
            "|      mazda|  hatchback| 159.1|   ohc|     31|    Yes|\n",
            "|      mazda|  hatchback| 159.1|   ohc|     31|    Yes|\n",
            "|      mazda|      sedan|   175|   ohc|     31|    Yes|\n",
            "+-----------+-----------+------+------+-------+-------+\n",
            "only showing top 20 rows\n",
            "\n"
          ]
        }
      ]
    },
    {
      "cell_type": "code",
      "source": [
        "#filtering rows\n",
        "df.filter(df['mileage'] > 20).show()"
      ],
      "metadata": {
        "colab": {
          "base_uri": "https://localhost:8080/"
        },
        "id": "LqyYNCjTWduK",
        "outputId": "4f4e18e0-723a-4dc6-fc76-4a020bfe2b8d"
      },
      "execution_count": 29,
      "outputs": [
        {
          "output_type": "stream",
          "name": "stdout",
          "text": [
            "+-----------+-----------+------+------+-------+-------+\n",
            "|    company| body-style|length|engine|mileage|sunroof|\n",
            "+-----------+-----------+------+------+-------+-------+\n",
            "|alfa-romero|convertible| 168.8|  dohc|     21|     No|\n",
            "|       audi|      sedan| 176.6|   ohc|     24|    Yes|\n",
            "|        bmw|      sedan| 176.8|   ohc|     23|    Yes|\n",
            "|        bmw|      sedan| 176.8|   ohc|     23|    Yes|\n",
            "|        bmw|      sedan| 176.8|   ohc|     21|    Yes|\n",
            "|  chevrolet|  hatchback| 141.1|   ohc|     47|     No|\n",
            "|  chevrolet|  hatchback| 155.9|   ohc|     38|     No|\n",
            "|  chevrolet|      sedan| 158.8|   ohc|     38|     No|\n",
            "|      dodge|  hatchback| 157.3|   ohc|     31|     No|\n",
            "|      dodge|  hatchback| 157.3|   ohc|     31|     No|\n",
            "|      honda|      wagon| 157.1|   ohc|     30|     No|\n",
            "|      honda|      sedan| 175.4|   ohc|     24|     No|\n",
            "|      honda|      sedan| 169.1|   ohc|     25|     No|\n",
            "|      isuzu|      sedan| 170.7|   ohc|     24|     No|\n",
            "|      isuzu|      sedan| 155.9|   ohc|     38|     No|\n",
            "|      isuzu|      sedan| 155.9|   ohc|     38|     No|\n",
            "|      mazda|  hatchback| 159.1|   ohc|     30|    Yes|\n",
            "|      mazda|  hatchback| 159.1|   ohc|     31|    Yes|\n",
            "|      mazda|  hatchback| 159.1|   ohc|     31|    Yes|\n",
            "|      mazda|      sedan|   175|   ohc|     31|    Yes|\n",
            "+-----------+-----------+------+------+-------+-------+\n",
            "only showing top 20 rows\n",
            "\n"
          ]
        }
      ]
    },
    {
      "cell_type": "code",
      "source": [
        "#adding colums\n",
        "df.withColumn(\"mileage_plus_10\",df['mileage']+10).show()"
      ],
      "metadata": {
        "colab": {
          "base_uri": "https://localhost:8080/"
        },
        "id": "ydJlR-_iW8pA",
        "outputId": "e401c912-26da-4221-dc3c-1dcf8c9e55c1"
      },
      "execution_count": 31,
      "outputs": [
        {
          "output_type": "stream",
          "name": "stdout",
          "text": [
            "+-----------+-----------+------+------+-------+-------+---------------+\n",
            "|    company| body-style|length|engine|mileage|sunroof|mileage_plus_10|\n",
            "+-----------+-----------+------+------+-------+-------+---------------+\n",
            "|alfa-romero|convertible| 168.8|  dohc|     21|     No|           31.0|\n",
            "|alfa-romero|  hatchback| 171.2|  dohc|     19|     No|           29.0|\n",
            "|       audi|      sedan| 176.6|   ohc|     24|    Yes|           34.0|\n",
            "|       audi|      sedan| 176.6|  None|     18|    Yes|           28.0|\n",
            "|       audi|      sedan| 177.3|   ohc|     19|    Yes|           29.0|\n",
            "|       audi|      wagon| 192.7|   ohc|     19|    Yes|           29.0|\n",
            "|        bmw|      sedan| 176.8|   ohc|     23|    Yes|           33.0|\n",
            "|        bmw|      sedan| 176.8|   ohc|     23|    Yes|           33.0|\n",
            "|        bmw|      sedan| 176.8|   ohc|     21|    Yes|           31.0|\n",
            "|        bmw|      sedan|   189|   ohc|     16|    Yes|           26.0|\n",
            "|        bmw|      sedan| 193.8|   ohc|     16|    Yes|           26.0|\n",
            "|        bmw|      sedan|   197|   ohc|     15|    Yes|           25.0|\n",
            "|  chevrolet|  hatchback| 141.1|   ohc|     47|     No|           57.0|\n",
            "|  chevrolet|  hatchback| 155.9|   ohc|     38|     No|           48.0|\n",
            "|  chevrolet|      sedan| 158.8|   ohc|     38|     No|           48.0|\n",
            "|      dodge|  hatchback| 157.3|   ohc|     31|     No|           41.0|\n",
            "|      dodge|  hatchback| 157.3|   ohc|     31|     No|           41.0|\n",
            "|      honda|      wagon| 157.1|   ohc|     30|     No|           40.0|\n",
            "|      honda|      sedan| 175.4|   ohc|     24|     No|           34.0|\n",
            "|      honda|      sedan| 169.1|   ohc|     25|     No|           35.0|\n",
            "+-----------+-----------+------+------+-------+-------+---------------+\n",
            "only showing top 20 rows\n",
            "\n"
          ]
        }
      ]
    },
    {
      "cell_type": "code",
      "source": [
        "#droping colums\n",
        "df.drop(\"mileage_plus_10\").show()"
      ],
      "metadata": {
        "colab": {
          "base_uri": "https://localhost:8080/"
        },
        "id": "nD_Y97A4YgIi",
        "outputId": "c10d84dd-53ef-406c-f9b9-86f547d3f9b8"
      },
      "execution_count": 32,
      "outputs": [
        {
          "output_type": "stream",
          "name": "stdout",
          "text": [
            "+-----------+-----------+------+------+-------+-------+\n",
            "|    company| body-style|length|engine|mileage|sunroof|\n",
            "+-----------+-----------+------+------+-------+-------+\n",
            "|alfa-romero|convertible| 168.8|  dohc|     21|     No|\n",
            "|alfa-romero|  hatchback| 171.2|  dohc|     19|     No|\n",
            "|       audi|      sedan| 176.6|   ohc|     24|    Yes|\n",
            "|       audi|      sedan| 176.6|  None|     18|    Yes|\n",
            "|       audi|      sedan| 177.3|   ohc|     19|    Yes|\n",
            "|       audi|      wagon| 192.7|   ohc|     19|    Yes|\n",
            "|        bmw|      sedan| 176.8|   ohc|     23|    Yes|\n",
            "|        bmw|      sedan| 176.8|   ohc|     23|    Yes|\n",
            "|        bmw|      sedan| 176.8|   ohc|     21|    Yes|\n",
            "|        bmw|      sedan|   189|   ohc|     16|    Yes|\n",
            "|        bmw|      sedan| 193.8|   ohc|     16|    Yes|\n",
            "|        bmw|      sedan|   197|   ohc|     15|    Yes|\n",
            "|  chevrolet|  hatchback| 141.1|   ohc|     47|     No|\n",
            "|  chevrolet|  hatchback| 155.9|   ohc|     38|     No|\n",
            "|  chevrolet|      sedan| 158.8|   ohc|     38|     No|\n",
            "|      dodge|  hatchback| 157.3|   ohc|     31|     No|\n",
            "|      dodge|  hatchback| 157.3|   ohc|     31|     No|\n",
            "|      honda|      wagon| 157.1|   ohc|     30|     No|\n",
            "|      honda|      sedan| 175.4|   ohc|     24|     No|\n",
            "|      honda|      sedan| 169.1|   ohc|     25|     No|\n",
            "+-----------+-----------+------+------+-------+-------+\n",
            "only showing top 20 rows\n",
            "\n"
          ]
        }
      ]
    },
    {
      "cell_type": "markdown",
      "source": [
        "### **Renameing** colums"
      ],
      "metadata": {
        "id": "Iy5QRwjbYwCd"
      }
    },
    {
      "cell_type": "code",
      "source": [
        "df.withColumnRenamed(\"length\",\"len\").show()"
      ],
      "metadata": {
        "colab": {
          "base_uri": "https://localhost:8080/"
        },
        "id": "TpvDwwtTYmjr",
        "outputId": "5341d7ed-7b4b-4c67-f013-4bac70bffdc2"
      },
      "execution_count": 36,
      "outputs": [
        {
          "output_type": "stream",
          "name": "stdout",
          "text": [
            "+-----------+-----------+-----+------+-------+-------+\n",
            "|    company| body-style|  len|engine|mileage|sunroof|\n",
            "+-----------+-----------+-----+------+-------+-------+\n",
            "|alfa-romero|convertible|168.8|  dohc|     21|     No|\n",
            "|alfa-romero|  hatchback|171.2|  dohc|     19|     No|\n",
            "|       audi|      sedan|176.6|   ohc|     24|    Yes|\n",
            "|       audi|      sedan|176.6|  None|     18|    Yes|\n",
            "|       audi|      sedan|177.3|   ohc|     19|    Yes|\n",
            "|       audi|      wagon|192.7|   ohc|     19|    Yes|\n",
            "|        bmw|      sedan|176.8|   ohc|     23|    Yes|\n",
            "|        bmw|      sedan|176.8|   ohc|     23|    Yes|\n",
            "|        bmw|      sedan|176.8|   ohc|     21|    Yes|\n",
            "|        bmw|      sedan|  189|   ohc|     16|    Yes|\n",
            "|        bmw|      sedan|193.8|   ohc|     16|    Yes|\n",
            "|        bmw|      sedan|  197|   ohc|     15|    Yes|\n",
            "|  chevrolet|  hatchback|141.1|   ohc|     47|     No|\n",
            "|  chevrolet|  hatchback|155.9|   ohc|     38|     No|\n",
            "|  chevrolet|      sedan|158.8|   ohc|     38|     No|\n",
            "|      dodge|  hatchback|157.3|   ohc|     31|     No|\n",
            "|      dodge|  hatchback|157.3|   ohc|     31|     No|\n",
            "|      honda|      wagon|157.1|   ohc|     30|     No|\n",
            "|      honda|      sedan|175.4|   ohc|     24|     No|\n",
            "|      honda|      sedan|169.1|   ohc|     25|     No|\n",
            "+-----------+-----------+-----+------+-------+-------+\n",
            "only showing top 20 rows\n",
            "\n"
          ]
        }
      ]
    },
    {
      "cell_type": "code",
      "source": [
        "#sorting data\n",
        "df.sort(df['length'].desc()).show()"
      ],
      "metadata": {
        "colab": {
          "base_uri": "https://localhost:8080/"
        },
        "id": "0DFTIH7-aefZ",
        "outputId": "fc8d589b-7dcc-4093-b8cb-555783338c92"
      },
      "execution_count": 39,
      "outputs": [
        {
          "output_type": "stream",
          "name": "stdout",
          "text": [
            "+-------------+----------+------+------+-------+-------+\n",
            "|      company|body-style|length|engine|mileage|sunroof|\n",
            "+-------------+----------+------+------+-------+-------+\n",
            "|mercedes-benz|     sedan| 208.1|  ohcv|     14|    Yes|\n",
            "|       jaguar|     sedan| 199.6|  dohc|     15|    Yes|\n",
            "|       jaguar|     sedan| 199.6|  dohc|     15|    Yes|\n",
            "|mercedes-benz|   hardtop| 199.2|  ohcv|     14|    Yes|\n",
            "|          bmw|     sedan|   197|   ohc|     15|    Yes|\n",
            "|          bmw|     sedan| 193.8|   ohc|     16|    Yes|\n",
            "|         audi|     wagon| 192.7|   ohc|     19|    Yes|\n",
            "|       jaguar|     sedan| 191.7|  ohcv|     13|    Yes|\n",
            "|mercedes-benz|     sedan| 190.9|   ohc|     22|    Yes|\n",
            "|mercedes-benz|     wagon| 190.9|   ohc|     22|    Yes|\n",
            "|          bmw|     sedan|   189|   ohc|     16|    Yes|\n",
            "|        volvo|     sedan| 188.8|   ohc|     23|     No|\n",
            "|        volvo|     wagon| 188.8|   ohc|     23|     No|\n",
            "|       toyota|     wagon| 187.8|  dohc|     19|     No|\n",
            "|       nissan|     sedan| 184.6|  ohcv|     19|     No|\n",
            "|         audi|     sedan| 177.3|   ohc|     19|    Yes|\n",
            "|          bmw|     sedan| 176.8|   ohc|     23|    Yes|\n",
            "|          bmw|     sedan| 176.8|   ohc|     23|    Yes|\n",
            "|          bmw|     sedan| 176.8|   ohc|     21|    Yes|\n",
            "|         audi|     sedan| 176.6|   ohc|     24|    Yes|\n",
            "+-------------+----------+------+------+-------+-------+\n",
            "only showing top 20 rows\n",
            "\n"
          ]
        }
      ]
    },
    {
      "cell_type": "code",
      "source": [],
      "metadata": {
        "id": "UPX803pFdJi6"
      },
      "execution_count": null,
      "outputs": []
    }
  ]
}