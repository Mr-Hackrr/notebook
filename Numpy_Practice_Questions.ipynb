{
 "cells": [
  {
   "cell_type": "code",
   "execution_count": null,
   "id": "5974b24e-77de-463c-b20e-00c1c0fd3f1d",
   "metadata": {},
   "outputs": [],
   "source": [
    "# 68) Create a null vector of size 10"
   ]
  },
  {
   "cell_type": "code",
   "execution_count": null,
   "id": "598f0bd2-c85e-4880-a221-e8680ee2a553",
   "metadata": {},
   "outputs": [],
   "source": [
    "# 67) How to find the memory size of any array "
   ]
  },
  {
   "cell_type": "code",
   "execution_count": null,
   "id": "74446137-ccba-4d3d-aeb8-342044e254d8",
   "metadata": {},
   "outputs": [],
   "source": [
    "# 66) Create a null vector of size 10 but the fifth value which is 1"
   ]
  },
  {
   "cell_type": "code",
   "execution_count": null,
   "id": "a5752767-8144-4e61-a39a-5c882256051e",
   "metadata": {},
   "outputs": [],
   "source": [
    "# 65) Create a vector with values ranging from 10 to 49"
   ]
  },
  {
   "cell_type": "code",
   "execution_count": null,
   "id": "977318ae-53e4-49bd-b920-ab49590b0e0c",
   "metadata": {},
   "outputs": [],
   "source": [
    "# 64) Reverse a vector (first element becomes last)"
   ]
  },
  {
   "cell_type": "code",
   "execution_count": null,
   "id": "3589b56b-677c-40d3-b6b1-21936a1605ab",
   "metadata": {},
   "outputs": [],
   "source": [
    "# 63) Create a 3x3 matrix with values ranging from 0 to 8"
   ]
  },
  {
   "cell_type": "code",
   "execution_count": null,
   "id": "9a81c8f2-98b7-45ad-93e4-fcb480f78855",
   "metadata": {},
   "outputs": [],
   "source": [
    "# 62) Create a 3x3 identity matrix"
   ]
  },
  {
   "cell_type": "code",
   "execution_count": null,
   "id": "5f81ba0d-e122-4a82-b068-e3ea1183aefa",
   "metadata": {},
   "outputs": [],
   "source": [
    "# 61) Create a 3x3x3 array with random values"
   ]
  },
  {
   "cell_type": "code",
   "execution_count": null,
   "id": "e36df231-2a14-4586-8d17-3800a5d6e74d",
   "metadata": {},
   "outputs": [],
   "source": [
    "# 60) Create a 2d array with 1 on the border and 0 inside"
   ]
  },
  {
   "cell_type": "code",
   "execution_count": 11,
   "id": "a0f8766e-d349-40fe-8c19-179daad3c061",
   "metadata": {},
   "outputs": [],
   "source": [
    "# What is the result of the following expression?\n",
    "# 0 * np.nan\n",
    "# np.nan == np.nan\n",
    "# np.inf > np.nan\n",
    "# np.nan - np.nan\n",
    "# np.nan in set([np.nan])\n",
    "# 0.3 == 3 * 0.1"
   ]
  },
  {
   "cell_type": "code",
   "execution_count": null,
   "id": "be7c2fb4-c741-4a0d-87c1-fd0397945ab8",
   "metadata": {},
   "outputs": [],
   "source": [
    "##########################################################################"
   ]
  },
  {
   "cell_type": "code",
   "execution_count": 9,
   "id": "2dcea3d2-e74b-4cc8-99f6-9420507160e8",
   "metadata": {},
   "outputs": [],
   "source": [
    "# 59) Count the number of elements in an array that are greater than the mean."
   ]
  },
  {
   "cell_type": "code",
   "execution_count": null,
   "id": "37ca407f-270d-461b-8ec0-401493c4d17d",
   "metadata": {},
   "outputs": [],
   "source": [
    "# 58) Create a 2D array with random integers and replace all values greater than a certain threshold with that threshold."
   ]
  },
  {
   "cell_type": "code",
   "execution_count": null,
   "id": "c47083a1-0361-4496-8fb0-f508efb27cfe",
   "metadata": {},
   "outputs": [],
   "source": [
    "# 57) Check if any element in a 1D array is non-zero."
   ]
  },
  {
   "cell_type": "code",
   "execution_count": null,
   "id": "3a084576-87c7-43c8-81cf-04f7d6d33d3f",
   "metadata": {},
   "outputs": [],
   "source": [
    "# 56) Compute the cumulative sum of elements along a given axis in a 2D array."
   ]
  },
  {
   "cell_type": "code",
   "execution_count": null,
   "id": "34b42712-c8c3-4f63-9fb6-79f24cc4c6c2",
   "metadata": {},
   "outputs": [],
   "source": [
    "# 55) Compute the cumulative product of elements along a given axis in a 2D array."
   ]
  },
  {
   "cell_type": "code",
   "execution_count": null,
   "id": "c6673dc0-ec05-469e-b9d2-0c49c6eaf4aa",
   "metadata": {},
   "outputs": [],
   "source": [
    "# 54) Replace all even numbers in a 1D array with the next odd number."
   ]
  },
  {
   "cell_type": "code",
   "execution_count": null,
   "id": "6460d211-e514-434c-a4e3-09b301bd5ca9",
   "metadata": {},
   "outputs": [],
   "source": [
    "# 53) Calculate the element-wise square of the difference between two arrays."
   ]
  },
  {
   "cell_type": "code",
   "execution_count": null,
   "id": "739a70e4-0a12-4c23-86bb-b9b1fdb47825",
   "metadata": {},
   "outputs": [],
   "source": [
    "# 52) Calculate the pairwise Euclidean distance between two arrays."
   ]
  },
  {
   "cell_type": "code",
   "execution_count": null,
   "id": "4227d3a2-0a6f-4bae-9a96-d567ed1d0846",
   "metadata": {},
   "outputs": [],
   "source": [
    "# 51) Compute the sum of diagonal elements in a 2D array."
   ]
  },
  {
   "cell_type": "code",
   "execution_count": null,
   "id": "63f1a828-d88a-4510-b55c-277ec465bf6d",
   "metadata": {},
   "outputs": [],
   "source": [
    "# 50) Calculate the mean of each row in a 2D array ignoring nan values.\n",
    "matrix = np.array([[1, 2, np.nan], [4, np.nan, 6], [7, 8, 9]])"
   ]
  },
  {
   "cell_type": "code",
   "execution_count": null,
   "id": "1d141cc8-7ff8-4f5f-af46-e1335a04f825",
   "metadata": {},
   "outputs": [],
   "source": [
    "# 49) Create a 2D array and replace all nan values with the mean of the array.\n",
    "matrix = np.array([[1, np.nan, 3], [4, 5, np.nan], [7, 8, 9]])"
   ]
  },
  {
   "cell_type": "code",
   "execution_count": null,
   "id": "d14378dc-b1df-4c18-abc9-266b11f1c45f",
   "metadata": {},
   "outputs": [],
   "source": [
    "# 48) Find the indices of the maximum value in each row of a 2D array.\n",
    "matrix = np.random.random((3, 4))"
   ]
  },
  {
   "cell_type": "code",
   "execution_count": 1,
   "id": "82706cea-21f8-4384-ac7d-66da8dce9442",
   "metadata": {},
   "outputs": [],
   "source": [
    "# 47) Check if all elements in a 1D array are non-zero.\n",
    "arr = np.array([1, 2, 3, 4, 5])"
   ]
  },
  {
   "cell_type": "code",
   "execution_count": null,
   "id": "f9501279-7376-41e9-ae85-84265f8db4af",
   "metadata": {},
   "outputs": [],
   "source": [
    "# 46) Convert the elements of a 1D array to strings."
   ]
  },
  {
   "cell_type": "code",
   "execution_count": null,
   "id": "1cf2b6d6-9796-40d7-bd43-c3e1baf96107",
   "metadata": {},
   "outputs": [],
   "source": [
    "# 45) Find the indices of the top N minimum values in a 1D array."
   ]
  },
  {
   "cell_type": "code",
   "execution_count": null,
   "id": "dd21e51f-626d-4d66-b86b-b20eeafcbbd7",
   "metadata": {},
   "outputs": [],
   "source": [
    "# 44) Create a 2D array with random values and replace the maximum value in each row with -1."
   ]
  },
  {
   "cell_type": "code",
   "execution_count": null,
   "id": "ec3e4ec0-c6b6-48db-b967-ce0b006d2e2d",
   "metadata": {},
   "outputs": [],
   "source": [
    "# 43) Calculate the element-wise absolute difference between two arrays."
   ]
  },
  {
   "cell_type": "code",
   "execution_count": null,
   "id": "37ab7506-ac58-4ad8-a4b7-abb798b65c7d",
   "metadata": {},
   "outputs": [],
   "source": [
    "# 42) Create a 1D array and append a new element to the end."
   ]
  },
  {
   "cell_type": "code",
   "execution_count": null,
   "id": "d5c2e968-ef8a-486f-a1c1-fb44f05bde7f",
   "metadata": {},
   "outputs": [],
   "source": [
    "# 41) Round elements of a 1D array to the nearest integer.\n",
    "arr = np.array([1.2, 2.7, 3.5, 4.9])"
   ]
  },
  {
   "cell_type": "code",
   "execution_count": null,
   "id": "d70fb8b3-d616-41e2-84fc-9edcd67f2dad",
   "metadata": {},
   "outputs": [],
   "source": [
    "# 40) Count the number of occurrences of each unique value in a 1D array."
   ]
  },
  {
   "cell_type": "code",
   "execution_count": null,
   "id": "9f9cde1e-7725-4036-9b73-d0bb66d65bcd",
   "metadata": {},
   "outputs": [],
   "source": [
    "# 39) Create a 3x3 matrix and set all values above the main diagonal to zero."
   ]
  },
  {
   "cell_type": "code",
   "execution_count": null,
   "id": "eee7e68b-514a-4578-9042-eb7523c31b0c",
   "metadata": {},
   "outputs": [],
   "source": [
    "# 38) Create a 1D array and set the values between 10 and 20 to 0."
   ]
  },
  {
   "cell_type": "code",
   "execution_count": null,
   "id": "5d9ef251-4c54-4458-a51b-683f9df466da",
   "metadata": {},
   "outputs": [],
   "source": [
    "# 37) Compute the matrix multiplication of two 2D arrays."
   ]
  },
  {
   "cell_type": "code",
   "execution_count": 155,
   "id": "f562ec53-48e4-4dfa-b908-d8466fdb16a8",
   "metadata": {},
   "outputs": [
    {
     "data": {
      "text/plain": [
       "array([[ 1,  2,  3],\n",
       "       [ 4,  1, 10],\n",
       "       [ 8,  6,  2]])"
      ]
     },
     "execution_count": 155,
     "metadata": {},
     "output_type": "execute_result"
    }
   ],
   "source": [
    "# 36) Create a 2D array with random values and replace the maximum value with the minimum.\n"
   ]
  },
  {
   "cell_type": "code",
   "execution_count": null,
   "id": "ce2429f0-553f-4ad7-8242-b2da5eb2679f",
   "metadata": {},
   "outputs": [],
   "source": [
    "# 35) Calculate the element-wise exponentiation of a 1D array."
   ]
  },
  {
   "cell_type": "code",
   "execution_count": null,
   "id": "bf9afea9-1459-471f-a346-a8c46c8649cf",
   "metadata": {},
   "outputs": [],
   "source": [
    "# 34) Calculate the determinant of a 3x3 matrix.\n"
   ]
  },
  {
   "cell_type": "code",
   "execution_count": 147,
   "id": "02fc1b8e-2ce3-4655-bff8-9e39384f42f5",
   "metadata": {},
   "outputs": [
    {
     "name": "stdout",
     "output_type": "stream",
     "text": [
      "[[ 1  2  3]\n",
      " [ 4 15 10]\n",
      " [ 8  6  2]]\n"
     ]
    },
    {
     "data": {
      "text/plain": [
       "array([[ 1,  2,  3],\n",
       "       [ 8,  6,  2],\n",
       "       [ 4, 15, 10]])"
      ]
     },
     "execution_count": 147,
     "metadata": {},
     "output_type": "execute_result"
    }
   ],
   "source": [
    "# 33) Create a random 2D array and sort it by the second column.\n",
    "matrix = np.array([[1, 2,3], [4, 15,10],[8,6,2]])\n"
   ]
  },
  {
   "cell_type": "code",
   "execution_count": 133,
   "id": "a12dedf3-d18b-471b-a95e-b5d6f744f312",
   "metadata": {},
   "outputs": [
    {
     "data": {
      "text/plain": [
       "array([0.        , 0.11111111, 0.22222222, 0.33333333, 0.44444444,\n",
       "       0.55555556, 0.66666667, 0.77777778, 0.88888889, 1.        ])"
      ]
     },
     "execution_count": 133,
     "metadata": {},
     "output_type": "execute_result"
    }
   ],
   "source": [
    "# 32) Create a 1D array with 10 equidistant values between 0 and 1.\n"
   ]
  },
  {
   "cell_type": "code",
   "execution_count": 132,
   "id": "718f2d9e-5674-4c69-8b47-aa7972632c12",
   "metadata": {},
   "outputs": [
    {
     "data": {
      "text/plain": [
       "array([[1, 2, 3],\n",
       "       [3, 3, 3]])"
      ]
     },
     "execution_count": 132,
     "metadata": {},
     "output_type": "execute_result"
    }
   ],
   "source": [
    "# 31) Create a 2D array and set all values above a certain threshold to that threshold.\n",
    "arr1 = np.array([[1, 2,3], [4, 5,10]])\n",
    "threshold = 3\n"
   ]
  },
  {
   "cell_type": "code",
   "execution_count": 129,
   "id": "27af5708-12d4-4ddd-8c8d-b4f07ff79c6f",
   "metadata": {},
   "outputs": [
    {
     "data": {
      "text/plain": [
       "array([1, 2, 3, 4, 5])"
      ]
     },
     "execution_count": 129,
     "metadata": {},
     "output_type": "execute_result"
    }
   ],
   "source": [
    "# 30) Create a 1D array and remove all duplicate values.\n",
    "arr1 = np.array([1, 2, 3, 4,5, 4, 5])\n"
   ]
  },
  {
   "cell_type": "code",
   "execution_count": 128,
   "id": "4ecf6ace-4d81-4e56-b2cd-5bcb1899469c",
   "metadata": {},
   "outputs": [
    {
     "data": {
      "text/plain": [
       "(1200, array([ 4, 10, 30]), array([  6, 200]))"
      ]
     },
     "execution_count": 128,
     "metadata": {},
     "output_type": "execute_result"
    }
   ],
   "source": [
    "# 29) compute product of all the elemets of the array\n",
    "arr1 = np.array([[1, 2,3], [4, 5,10]])\n"
   ]
  },
  {
   "cell_type": "code",
   "execution_count": 122,
   "id": "d64e5ccc-1176-4e6d-b3f4-0e3e2cb6bd47",
   "metadata": {},
   "outputs": [
    {
     "name": "stdout",
     "output_type": "stream",
     "text": [
      "[[1 2]\n",
      " [4 5]]\n",
      "[[3 2]\n",
      " [8 5]]\n"
     ]
    },
    {
     "data": {
      "text/plain": [
       "40"
      ]
     },
     "execution_count": 122,
     "metadata": {},
     "output_type": "execute_result"
    }
   ],
   "source": [
    "# 28) Compute the element-wise product of two arrays.\n",
    "arr1 = np.array([[1, 2,], [4, 5]])\n",
    "arr2 = np.array([[3, 2,],[8, 5]])\n"
   ]
  },
  {
   "cell_type": "code",
   "execution_count": 111,
   "id": "282805ba-079f-403a-ab41-4b20e3cc944b",
   "metadata": {},
   "outputs": [
    {
     "data": {
      "text/plain": [
       "array([[1., 0., 3.],\n",
       "       [4., 5., 0.],\n",
       "       [7., 8., 9.]])"
      ]
     },
     "execution_count": 111,
     "metadata": {},
     "output_type": "execute_result"
    }
   ],
   "source": [
    "#27) Create a 2D array and replace all nan values with 0.\n",
    "matrix = np.array([[1, np.nan, 3], [4, 5, np.nan], [7, 8, 9]])\n"
   ]
  },
  {
   "cell_type": "code",
   "execution_count": 110,
   "id": "69192466-c924-483b-81df-ebb38dc385a0",
   "metadata": {},
   "outputs": [
    {
     "data": {
      "text/plain": [
       "4"
      ]
     },
     "execution_count": 110,
     "metadata": {},
     "output_type": "execute_result"
    }
   ],
   "source": [
    "# 26) Count the number of non-zero elements in a 2D array.\n",
    "arr = np.array([[0, 77,  0],\n",
    "               [ 6, 0,  5],\n",
    "               [ 0,  1,  0]])\n"
   ]
  },
  {
   "cell_type": "code",
   "execution_count": 107,
   "id": "3b69279f-6faf-440a-b4d3-342b7aac0ec2",
   "metadata": {},
   "outputs": [
    {
     "data": {
      "text/plain": [
       "[1, 3, 4]"
      ]
     },
     "execution_count": 107,
     "metadata": {},
     "output_type": "execute_result"
    }
   ],
   "source": [
    "# 25) Find the indices where elements of two arrays match.\n",
    "import numpy as np\n",
    "arr1 = np.array([1, 2, 3, 4, 5])\n",
    "arr2 = np.array([3, 2, 8, 4, 5])\n"
   ]
  },
  {
   "cell_type": "code",
   "execution_count": 104,
   "id": "e834a3ac-db8d-40e1-b996-587ced9ffb85",
   "metadata": {},
   "outputs": [
    {
     "data": {
      "text/plain": [
       "array([1.        , 1.41421356, 1.73205081, 2.        , 2.23606798,\n",
       "       2.23606798, 8.        ])"
      ]
     },
     "execution_count": 104,
     "metadata": {},
     "output_type": "execute_result"
    }
   ],
   "source": [
    "# 24) Calculate the square root of each element in a 1D array.\n",
    "arr = np.array([1, 2, 3, 4, 5, 5, 64])\n"
   ]
  },
  {
   "cell_type": "code",
   "execution_count": 102,
   "id": "78d0c537-acac-4ac2-a6f8-48e9c0776ea6",
   "metadata": {},
   "outputs": [
    {
     "data": {
      "text/plain": [
       "3"
      ]
     },
     "execution_count": 102,
     "metadata": {},
     "output_type": "execute_result"
    }
   ],
   "source": [
    "# 23) Count the number of elements in an array that are greater than the mean.\n",
    "arr = np.array([1, 2, 3, 4, 5, 5])\n"
   ]
  },
  {
   "cell_type": "code",
   "execution_count": 93,
   "id": "45c13ca5-47b1-40bc-b635-0ae26a522603",
   "metadata": {},
   "outputs": [
    {
     "data": {
      "text/plain": [
       "array([-1.,  2., -3.,  4., -5.])"
      ]
     },
     "execution_count": 93,
     "metadata": {},
     "output_type": "execute_result"
    }
   ],
   "source": [
    "# 22) Convert the data type of an array to float.\n",
    "arr = np.array([-1, 2, -3, 4, -5])\n"
   ]
  },
  {
   "cell_type": "code",
   "execution_count": 92,
   "id": "642f1867-d8c2-490a-9089-2f18239fea97",
   "metadata": {},
   "outputs": [
    {
     "data": {
      "text/plain": [
       "array([0, 2, 0, 4, 0])"
      ]
     },
     "execution_count": 92,
     "metadata": {},
     "output_type": "execute_result"
    }
   ],
   "source": [
    "# 21) Replace all negative values in an array with 0\n",
    "arr = np.array([-1, 2, -3, 4, -5])\n"
   ]
  },
  {
   "cell_type": "code",
   "execution_count": 91,
   "id": "132d22fe-2c8e-48ea-8c52-8216726d0b85",
   "metadata": {},
   "outputs": [
    {
     "data": {
      "text/plain": [
       "array([[10, 77,  8],\n",
       "       [ 6, 40,  5],\n",
       "       [ 3,  1,  2]])"
      ]
     },
     "execution_count": 91,
     "metadata": {},
     "output_type": "execute_result"
    }
   ],
   "source": [
    "# 20) Create a 2D array with random values and sort each column in descending order.\n"
   ]
  },
  {
   "cell_type": "code",
   "execution_count": 80,
   "id": "4c21521c-7c3c-43d4-aea5-90ab19f9309c",
   "metadata": {},
   "outputs": [
    {
     "name": "stdout",
     "output_type": "stream",
     "text": [
      "[[ 1  2 10]\n",
      " [ 3  5 40]\n",
      " [ 6  8 77]]\n"
     ]
    },
    {
     "data": {
      "text/plain": [
       "array([[10,  2,  1],\n",
       "       [40,  5,  3],\n",
       "       [77,  8,  6]])"
      ]
     },
     "execution_count": 80,
     "metadata": {},
     "output_type": "execute_result"
    }
   ],
   "source": [
    "# 19) Create a 2D array with random values and sort each row in descending order.\n",
    "arr = np.array([[10, 1, 2],\n",
    "       [3, 40, 5],\n",
    "       [6, 77, 8]])\n",
    "sorted_arr = np.sort(arr,axis = 1)\n",
    "print(sorted_arr)\n",
    "sorted_arr[:,::-1]"
   ]
  },
  {
   "cell_type": "code",
   "execution_count": 68,
   "id": "5bda7963-311c-4ea6-8b91-789eb781850e",
   "metadata": {},
   "outputs": [
    {
     "data": {
      "text/plain": [
       "array([0.44124627, 0.56114851, 0.26507591])"
      ]
     },
     "execution_count": 68,
     "metadata": {},
     "output_type": "execute_result"
    }
   ],
   "source": [
    "# 18) Calculate the mean of each column in a 2D array.\n",
    "np.mean(arr, axis = 0)"
   ]
  },
  {
   "cell_type": "code",
   "execution_count": 67,
   "id": "edd62864-fbf6-49d8-b07d-e4f249021656",
   "metadata": {},
   "outputs": [
    {
     "name": "stdout",
     "output_type": "stream",
     "text": [
      "[[0.21967536 0.52073656 0.1623635 ]\n",
      " [0.82623917 0.17227884 0.28840638]\n",
      " [0.2778243  0.99043015 0.34445784]]\n"
     ]
    },
    {
     "data": {
      "text/plain": [
       "array([[0, 1, 0],\n",
       "       [1, 0, 0],\n",
       "       [0, 1, 0]])"
      ]
     },
     "execution_count": 67,
     "metadata": {},
     "output_type": "execute_result"
    }
   ],
   "source": [
    "# 17) Create a random 3x3 matrix and replace all values greater than 0.5 with 1 and all others with 0.\n",
    "arr = np.random.rand(3,3)\n",
    "print(arr)\n",
    "np.where(arr>0.5,1,0)"
   ]
  },
  {
   "cell_type": "code",
   "execution_count": 65,
   "id": "8c109da6-9420-4da8-a71f-80547350cbf0",
   "metadata": {},
   "outputs": [
    {
     "data": {
      "text/plain": [
       "array([[6, 7, 8],\n",
       "       [3, 4, 5],\n",
       "       [0, 1, 2]])"
      ]
     },
     "execution_count": 65,
     "metadata": {},
     "output_type": "execute_result"
    }
   ],
   "source": [
    "# 16) Swap two rows in a 2D array.\n",
    "arr = np.array([[0, 1, 2],\n",
    "       [3, 4, 5],\n",
    "       [6, 7, 8]])\n",
    "\n",
    "arr[[0,2],:] = arr[[2,0],:]\n",
    "arr"
   ]
  },
  {
   "cell_type": "code",
   "execution_count": 57,
   "id": "f3048f17-39c2-44c8-bcab-40ad35d3a8ed",
   "metadata": {},
   "outputs": [
    {
     "data": {
      "text/plain": [
       "array([[0, 1, 2],\n",
       "       [3, 4, 5],\n",
       "       [6, 7, 8]], dtype=int16)"
      ]
     },
     "execution_count": 57,
     "metadata": {},
     "output_type": "execute_result"
    }
   ],
   "source": [
    "# 15) Create a 3x3 matrix with values ranging from 0 to 8.\n",
    "np.arange(9).reshape(3,3)\n",
    "np.linspace(0,8,9).reshape(3,3).astype('int16')"
   ]
  },
  {
   "cell_type": "code",
   "execution_count": 53,
   "id": "4a539184-d5e9-491f-9d88-5352cb5325a7",
   "metadata": {},
   "outputs": [
    {
     "data": {
      "text/plain": [
       "{1: 2, 2: 2, 3: 1, 4: 2, 5: 1, 6: 1}"
      ]
     },
     "execution_count": 53,
     "metadata": {},
     "output_type": "execute_result"
    }
   ],
   "source": [
    "# 14) Find the unique values and their counts in a 1D array.\n",
    "arr = np.array([1, 2, 3, 2, 4, 1, 5, 4, 6])\n",
    "values,counts = np.unique(arr,return_counts=True)\n",
    "dict(zip(values,counts))"
   ]
  },
  {
   "cell_type": "code",
   "execution_count": 51,
   "id": "946d4411-fed0-43e1-bf54-03c6b1413548",
   "metadata": {},
   "outputs": [
    {
     "name": "stdout",
     "output_type": "stream",
     "text": [
      "2\n",
      "3\n"
     ]
    }
   ],
   "source": [
    "# 13) Find the indices of the maximum and minimum values in a 1D array.\n",
    "arr = np.array([5, 2, 8, 1, 7])\n",
    "print(np.argmax(arr))\n",
    "print(np.argmin(arr))"
   ]
  },
  {
   "cell_type": "code",
   "execution_count": 45,
   "id": "20a1a8a9-fbf6-4c11-bc80-2f9f45185bfd",
   "metadata": {},
   "outputs": [
    {
     "data": {
      "text/plain": [
       "array([4.4, 4.4, 4.4, 4.4, 4.4])"
      ]
     },
     "execution_count": 45,
     "metadata": {},
     "output_type": "execute_result"
    }
   ],
   "source": [
    "# 12) Replace all values in a 1D array with the mean of the array.\n",
    "arr = np.array([5, 2, 8, 0, 7])\n",
    "# np.where(arr, np.mean(arr), 0)\n",
    "\n",
    "np.full(arr.shape, np.mean(arr))"
   ]
  },
  {
   "cell_type": "code",
   "execution_count": 38,
   "id": "920354b2-fc5b-4ac3-b787-b28501afcd1f",
   "metadata": {},
   "outputs": [
    {
     "name": "stdout",
     "output_type": "stream",
     "text": [
      "[[0.26379705 0.86179403 0.06540035 0.92462774]\n",
      " [0.12364527 0.95660927 0.8360032  0.79495511]\n",
      " [0.25712076 0.79700226 0.06374284 0.72738004]\n",
      " [0.86902388 0.63077932 0.56417534 0.45265638]]\n"
     ]
    },
    {
     "data": {
      "text/plain": [
       "array([0.26379705, 0.95660927, 0.06374284, 0.45265638])"
      ]
     },
     "execution_count": 38,
     "metadata": {},
     "output_type": "execute_result"
    }
   ],
   "source": [
    "# 11) Create a random 4x4 matrix and extract the diagonal elements.\n",
    "import numpy as np\n",
    "matrix = np.random.random((4, 4))\n",
    "print(matrix)\n",
    "np.diag(matrix)"
   ]
  },
  {
   "cell_type": "code",
   "execution_count": 36,
   "id": "dc2e565f-e692-4829-9a0d-fcc4f42b45dd",
   "metadata": {},
   "outputs": [
    {
     "data": {
      "text/plain": [
       "array([0.30367756, 0.39665621, 0.75196848])"
      ]
     },
     "execution_count": 36,
     "metadata": {},
     "output_type": "execute_result"
    }
   ],
   "source": [
    "# 10) Find the mean of each row in a 2D array.\n",
    "matrix = np.random.random((3, 4))\n",
    "np.mean(matrix, axis = 1)"
   ]
  },
  {
   "cell_type": "code",
   "execution_count": 34,
   "id": "555ef285-59e7-4c28-a326-3d4bb1f4c8a3",
   "metadata": {},
   "outputs": [
    {
     "data": {
      "text/plain": [
       "array([[1, 2, 3],\n",
       "       [4, 5, 6]])"
      ]
     },
     "execution_count": 34,
     "metadata": {},
     "output_type": "execute_result"
    }
   ],
   "source": [
    "# 9) Stack two arrays vertically.\n",
    "import numpy as np\n",
    "arr1 = np.array([1, 2, 3])\n",
    "arr2 = np.array([4, 5, 6])\n",
    "np.vstack([arr1,arr2])"
   ]
  },
  {
   "cell_type": "code",
   "execution_count": 28,
   "id": "24d1356c-0e92-4798-9749-8fe08188bf0d",
   "metadata": {},
   "outputs": [
    {
     "data": {
      "text/plain": [
       "array([[0, 1],\n",
       "       [2, 3],\n",
       "       [4, 5],\n",
       "       [6, 7],\n",
       "       [8, 9]])"
      ]
     },
     "execution_count": 28,
     "metadata": {},
     "output_type": "execute_result"
    }
   ],
   "source": [
    "# 8) Reshape a 1D array to a 2D array with 5 rows and 2 columns.\n",
    "arr = np.arange(10)\n",
    "arr.reshape((5,2))"
   ]
  },
  {
   "cell_type": "code",
   "execution_count": 27,
   "id": "48060c70-93ed-4efb-8c98-c5a5d03abc4a",
   "metadata": {},
   "outputs": [
    {
     "data": {
      "text/plain": [
       "array([[1., 0., 0.],\n",
       "       [0., 1., 0.],\n",
       "       [0., 0., 1.]])"
      ]
     },
     "execution_count": 27,
     "metadata": {},
     "output_type": "execute_result"
    }
   ],
   "source": [
    "# 7) Create a 3x3 identity matrix.\n",
    "np.identity(3)"
   ]
  },
  {
   "cell_type": "code",
   "execution_count": 26,
   "id": "3bb74b9e-ed49-491c-b652-8cd2bc6678d2",
   "metadata": {},
   "outputs": [
    {
     "data": {
      "text/plain": [
       "array([4, 3, 2, 1, 0])"
      ]
     },
     "execution_count": 26,
     "metadata": {},
     "output_type": "execute_result"
    }
   ],
   "source": [
    "# 6) Reverse a 1D array (first element becomes the last).\n",
    "arr = np.arange(5)\n",
    "# arr[::-1]\n",
    "\n",
    "# np.flip(arr)"
   ]
  },
  {
   "cell_type": "code",
   "execution_count": 23,
   "id": "8cc2b305-c41d-4850-ab08-5f6e022f127a",
   "metadata": {},
   "outputs": [
    {
     "data": {
      "text/plain": [
       "[(0, 0), (0, 1), (1, 1), (2, 0), (2, 2)]"
      ]
     },
     "execution_count": 23,
     "metadata": {},
     "output_type": "execute_result"
    }
   ],
   "source": [
    "# 5) Find the indices of non-zero elements.\n",
    "arr = np.array([[1,2,0],[0,4,0],[5,0,10]])\n",
    "row,col = np.where(arr > 0)\n",
    "list(zip(row,col))"
   ]
  },
  {
   "cell_type": "code",
   "execution_count": 17,
   "id": "675a893b-3108-44c6-989c-c9642f4771e5",
   "metadata": {},
   "outputs": [
    {
     "data": {
      "text/plain": [
       "array([[-0.27960648, -1.73151113, -1.33244186],\n",
       "       [ 0.6224684 ,  1.12270793,  0.78248894],\n",
       "       [ 0.78216432, -0.78179308,  0.81552296]])"
      ]
     },
     "execution_count": 17,
     "metadata": {},
     "output_type": "execute_result"
    }
   ],
   "source": [
    "# 4. Create a random 3x3 matrix and normalize it.\n",
    "arr = np.random.rand(3,3)\n",
    "arr_norm = (arr - np.mean(arr))/np.std(arr)\n",
    "arr_norm"
   ]
  },
  {
   "cell_type": "code",
   "execution_count": 14,
   "id": "24bc414a-6424-4530-aab9-dc4d98ac7679",
   "metadata": {},
   "outputs": [
    {
     "data": {
      "text/plain": [
       "array([  1,  -2,   3,  -4,   5,  -6,   7,  -8,   9, -10])"
      ]
     },
     "execution_count": 14,
     "metadata": {},
     "output_type": "execute_result"
    }
   ],
   "source": [
    "# 3. Replace all even numbers in a 1D array with their negative.\n",
    "arr = np.arange(1,11)\n",
    "np.where(arr % 2 == 0, arr*-1, arr)"
   ]
  },
  {
   "cell_type": "code",
   "execution_count": 13,
   "id": "6e2d4b21-e708-4bfe-8744-348d0319cbed",
   "metadata": {},
   "outputs": [
    {
     "data": {
      "text/plain": [
       "array([[ True, False,  True,  True],\n",
       "       [False,  True, False, False]])"
      ]
     },
     "execution_count": 13,
     "metadata": {},
     "output_type": "execute_result"
    }
   ],
   "source": [
    "# 2. Convert a 2D array to a boolean array where all positive values become True.\n",
    "\n",
    "arr = np.array([[1,-6,5,4],[-7,3,-8,-2]])\n",
    "# arr > 0\n",
    "\n",
    "# np.where(arr >0, True, False)"
   ]
  },
  {
   "cell_type": "code",
   "execution_count": 10,
   "id": "dde1dbf5-0ecc-4c9b-b815-b468d3f861fe",
   "metadata": {},
   "outputs": [
    {
     "data": {
      "text/plain": [
       "array([-1,  2, -1,  4, -1,  6, -1,  8, -1, 10])"
      ]
     },
     "execution_count": 10,
     "metadata": {},
     "output_type": "execute_result"
    }
   ],
   "source": [
    "# 1. Replace all odd numbers in an array of 1-10 with -1.\n",
    "arr = np.arange(1,11)\n",
    "np.where(arr%2 != 0,-1, arr)"
   ]
  },
  {
   "cell_type": "code",
   "execution_count": null,
   "id": "455258ad-4cea-4e58-8028-9810f1b3a5f6",
   "metadata": {},
   "outputs": [],
   "source": []
  }
 ],
 "metadata": {
  "kernelspec": {
   "display_name": "Python 3 (ipykernel)",
   "language": "python",
   "name": "python3"
  },
  "language_info": {
   "codemirror_mode": {
    "name": "ipython",
    "version": 3
   },
   "file_extension": ".py",
   "mimetype": "text/x-python",
   "name": "python",
   "nbconvert_exporter": "python",
   "pygments_lexer": "ipython3",
   "version": "3.12.3"
  }
 },
 "nbformat": 4,
 "nbformat_minor": 5
}
